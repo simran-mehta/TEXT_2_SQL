{
 "cells": [
  {
   "cell_type": "code",
   "execution_count": 13,
   "metadata": {},
   "outputs": [],
   "source": [
    "import os\n",
    "from dotenv import load_dotenv\n",
    "\n",
    "# Load environment variables from .env file\n",
    "load_dotenv()\n",
    "\n",
    "# Retrieve the variables\n",
    "langchain_tracing = os.getenv(\"LANGCHAIN_TRACING_V2\")\n",
    "langchain_project = os.getenv(\"LANGCHAIN_PROJECT\")\n",
    "langsmith_api_key = os.getenv(\"LANGSMITH_API_KEY\")\n"
   ]
  },
  {
   "cell_type": "code",
   "execution_count": 14,
   "metadata": {},
   "outputs": [],
   "source": [
    "# The import statement will vary depending on your LLM and vector database. This is an example for OpenAI + ChromaDB\n",
    "\n",
    "from vanna.openai.openai_chat import OpenAI_Chat\n",
    "from vanna.chromadb.chromadb_vector import ChromaDB_VectorStore\n",
    "\n",
    "class MyVanna(ChromaDB_VectorStore, OpenAI_Chat):\n",
    "    def __init__(self, config=None):\n",
    "        ChromaDB_VectorStore.__init__(self, config=config)\n",
    "        OpenAI_Chat.__init__(self, config=config)\n",
    "\n",
    "vn = MyVanna(config={'api_key': langsmith_api_key, 'model': 'gpt-4o-mini'})\n",
    "\n",
    "# See the documentation for other options\n"
   ]
  },
  {
   "cell_type": "code",
   "execution_count": 3,
   "metadata": {},
   "outputs": [
    {
     "data": {
      "text/plain": [
       "<__main__.MyVanna at 0x1e40391e490>"
      ]
     },
     "execution_count": 3,
     "metadata": {},
     "output_type": "execute_result"
    }
   ],
   "source": [
    "vn"
   ]
  },
  {
   "cell_type": "code",
   "execution_count": 4,
   "metadata": {},
   "outputs": [
    {
     "name": "stdout",
     "output_type": "stream",
     "text": [
      "Adding ddl: CREATE TABLE machines (\n",
      "    machine_id INTEGER PRIMARY KEY,\n",
      "    machine_name TEXT NOT NULL,\n",
      "    location TEXT NOT NULL,\n",
      "    installation_date DATE NOT NULL,\n",
      "    max_capacity_per_hour INTEGER NOT NULL,\n",
      "    maintenance_interval_days INTEGER NOT NULL,\n",
      "    last_maintenance_date DATE,\n",
      "    status TEXT NOT NULL\n",
      ");\n"
     ]
    },
    {
     "data": {
      "text/plain": [
       "'ad7add6f-ba14-5719-a3a5-4c27c35cb799-ddl'"
      ]
     },
     "execution_count": 4,
     "metadata": {},
     "output_type": "execute_result"
    }
   ],
   "source": [
    "vn.train(ddl=\"\"\"CREATE TABLE machines (\n",
    "    machine_id INTEGER PRIMARY KEY,\n",
    "    machine_name TEXT NOT NULL,\n",
    "    location TEXT NOT NULL,\n",
    "    installation_date DATE NOT NULL,\n",
    "    max_capacity_per_hour INTEGER NOT NULL,\n",
    "    maintenance_interval_days INTEGER NOT NULL,\n",
    "    last_maintenance_date DATE,\n",
    "    status TEXT NOT NULL\n",
    ");\"\"\")"
   ]
  },
  {
   "cell_type": "code",
   "execution_count": 5,
   "metadata": {},
   "outputs": [
    {
     "name": "stdout",
     "output_type": "stream",
     "text": [
      "Adding ddl: CREATE TABLE shifts (\n",
      "    shift_id INTEGER PRIMARY KEY,\n",
      "    shift_name TEXT NOT NULL,\n",
      "    start_time TEXT NOT NULL,\n",
      "    end_time TEXT NOT NULL,\n",
      "    supervisor_id TEXT NOT NULL,\n",
      "    target_output INTEGER NOT NULL,\n",
      "    shift_type TEXT NOT NULL,\n",
      "    active BOOLEAN NOT NULL\n",
      ");\n"
     ]
    },
    {
     "data": {
      "text/plain": [
       "'64e24ccf-760a-5746-9d81-a5c75fc3886a-ddl'"
      ]
     },
     "execution_count": 5,
     "metadata": {},
     "output_type": "execute_result"
    }
   ],
   "source": [
    "vn.train(ddl=\"\"\"CREATE TABLE shifts (\n",
    "    shift_id INTEGER PRIMARY KEY,\n",
    "    shift_name TEXT NOT NULL,\n",
    "    start_time TEXT NOT NULL,\n",
    "    end_time TEXT NOT NULL,\n",
    "    supervisor_id TEXT NOT NULL,\n",
    "    target_output INTEGER NOT NULL,\n",
    "    shift_type TEXT NOT NULL,\n",
    "    active BOOLEAN NOT NULL\n",
    ");\"\"\")"
   ]
  },
  {
   "cell_type": "code",
   "execution_count": 6,
   "metadata": {},
   "outputs": [
    {
     "name": "stdout",
     "output_type": "stream",
     "text": [
      "Adding ddl: CREATE TABLE employees (\n",
      "    employee_id TEXT PRIMARY KEY,\n",
      "    first_name TEXT NOT NULL,\n",
      "    last_name TEXT NOT NULL,\n",
      "    hire_date DATE NOT NULL,\n",
      "    shift_preference TEXT NOT NULL,\n",
      "    skill_level TEXT NOT NULL,\n",
      "    hourly_rate REAL NOT NULL,\n",
      "    certification TEXT NOT NULL\n",
      ");\n"
     ]
    },
    {
     "data": {
      "text/plain": [
       "'54318c50-e450-5745-8f5c-20bc54e5e583-ddl'"
      ]
     },
     "execution_count": 6,
     "metadata": {},
     "output_type": "execute_result"
    }
   ],
   "source": [
    "vn.train(ddl=\"\"\"CREATE TABLE employees (\n",
    "    employee_id TEXT PRIMARY KEY,\n",
    "    first_name TEXT NOT NULL,\n",
    "    last_name TEXT NOT NULL,\n",
    "    hire_date DATE NOT NULL,\n",
    "    shift_preference TEXT NOT NULL,\n",
    "    skill_level TEXT NOT NULL,\n",
    "    hourly_rate REAL NOT NULL,\n",
    "    certification TEXT NOT NULL\n",
    ");\"\"\")"
   ]
  },
  {
   "cell_type": "code",
   "execution_count": 7,
   "metadata": {},
   "outputs": [
    {
     "name": "stdout",
     "output_type": "stream",
     "text": [
      "Adding ddl: CREATE TABLE production_logs (\n",
      "    production_id INTEGER PRIMARY KEY AUTOINCREMENT,\n",
      "    date DATE NOT NULL,\n",
      "    shift_id INTEGER NOT NULL,\n",
      "    machine_id INTEGER NOT NULL,\n",
      "    good_units INTEGER NOT NULL,\n",
      "    scrap_units INTEGER NOT NULL,\n",
      "    downtime_minutes INTEGER NOT NULL,\n",
      "    FOREIGN KEY (shift_id) REFERENCES shifts(shift_id),\n",
      "    FOREIGN KEY (machine_id) REFERENCES machines(machine_id)\n",
      ");\n",
      ");\n"
     ]
    },
    {
     "data": {
      "text/plain": [
       "'b4468de5-2909-56f6-98d7-7edd865e2ebd-ddl'"
      ]
     },
     "execution_count": 7,
     "metadata": {},
     "output_type": "execute_result"
    }
   ],
   "source": [
    "vn.train(ddl=\"\"\"CREATE TABLE production_logs (\n",
    "    production_id INTEGER PRIMARY KEY AUTOINCREMENT,\n",
    "    date DATE NOT NULL,\n",
    "    shift_id INTEGER NOT NULL,\n",
    "    machine_id INTEGER NOT NULL,\n",
    "    good_units INTEGER NOT NULL,\n",
    "    scrap_units INTEGER NOT NULL,\n",
    "    downtime_minutes INTEGER NOT NULL,\n",
    "    FOREIGN KEY (shift_id) REFERENCES shifts(shift_id),\n",
    "    FOREIGN KEY (machine_id) REFERENCES machines(machine_id)\n",
    ");\n",
    ");\"\"\")"
   ]
  },
  {
   "cell_type": "code",
   "execution_count": 8,
   "metadata": {},
   "outputs": [
    {
     "name": "stdout",
     "output_type": "stream",
     "text": [
      "Adding ddl: CREATE TABLE employee_shifts (\n",
      "    assignment_id INTEGER PRIMARY KEY AUTOINCREMENT,\n",
      "    date DATE NOT NULL,\n",
      "    shift_id INTEGER NOT NULL,\n",
      "    employee_id TEXT NOT NULL,\n",
      "    hours_worked REAL NOT NULL,\n",
      "    overtime_hours REAL NOT NULL,\n",
      "    attendance_status TEXT NOT NULL,\n",
      "    FOREIGN KEY (shift_id) REFERENCES shifts(shift_id),\n",
      "    FOREIGN KEY (employee_id) REFERENCES employees(employee_id)\n",
      ");\n",
      ");\n"
     ]
    },
    {
     "data": {
      "text/plain": [
       "'855e670d-2467-52be-8293-8c3e8fcfbef0-ddl'"
      ]
     },
     "execution_count": 8,
     "metadata": {},
     "output_type": "execute_result"
    }
   ],
   "source": [
    "vn.train(ddl=\"\"\"CREATE TABLE employee_shifts (\n",
    "    assignment_id INTEGER PRIMARY KEY AUTOINCREMENT,\n",
    "    date DATE NOT NULL,\n",
    "    shift_id INTEGER NOT NULL,\n",
    "    employee_id TEXT NOT NULL,\n",
    "    hours_worked REAL NOT NULL,\n",
    "    overtime_hours REAL NOT NULL,\n",
    "    attendance_status TEXT NOT NULL,\n",
    "    FOREIGN KEY (shift_id) REFERENCES shifts(shift_id),\n",
    "    FOREIGN KEY (employee_id) REFERENCES employees(employee_id)\n",
    ");\n",
    ");\"\"\")"
   ]
  },
  {
   "cell_type": "code",
   "execution_count": 9,
   "metadata": {},
   "outputs": [],
   "source": [
    "import json\n",
    "\n",
    "# Assuming vn is imported and has a train method\n",
    "# If vn is part of a specific library, import it accordingly (e.g., from some_library import vn)\n",
    "# For demonstration, I'll define a dummy vn.train function\n",
    "def vn_train(question, sql):\n",
    "    # print(f\"Training with: question='{question}', sql='{sql}'\")\n",
    "    vn.train(question=question, sql=sql)\n",
    "\n",
    "# JSON string\n",
    "json_data = '''\n",
    "{\n",
    "  \"training_data\": [\n",
    "    {\n",
    "      \"question\": \"Which machines had the highest total downtime in 2024?\",\n",
    "      \"sql\": \"SELECT m.machine_name, SUM(pl.downtime_minutes) as total_downtime FROM production_logs pl JOIN machines m ON pl.machine_id = m.machine_id WHERE pl.date LIKE '2024%' GROUP BY m.machine_name ORDER BY total_downtime DESC LIMIT 5\"\n",
    "    },\n",
    "    {\n",
    "      \"question\": \"What is the total good units produced per month?\",\n",
    "      \"sql\": \"SELECT strftime('%Y-%m', pl.date) as month, SUM(pl.good_units) as total_good_units FROM production_logs pl GROUP BY strftime('%Y-%m', pl.date) ORDER BY month\"\n",
    "    },\n",
    "    {\n",
    "      \"question\": \"How many employees worked overtime in March 2024?\",\n",
    "      \"sql\": \"SELECT COUNT(DISTINCT es.employee_id) as overtime_employees FROM employee_shifts es WHERE es.date LIKE '2024-03%' AND es.overtime_hours > 0\"\n",
    "    },\n",
    "    {\n",
    "      \"question\": \"Which shift had the most scrap units produced?\",\n",
    "      \"sql\": \"SELECT s.shift_name, SUM(pl.scrap_units) as total_scrap_units FROM production_logs pl JOIN shifts s ON pl.shift_id = s.shift_id GROUP BY s.shift_name ORDER BY total_scrap_units DESC LIMIT 1\"\n",
    "    },\n",
    "    {\n",
    "      \"question\": \"List employees who were absent more than 5 times in 2024.\",\n",
    "      \"sql\": \"SELECT e.employee_id, e.first_name, e.last_name, COUNT(*) as absence_count FROM employee_shifts es JOIN employees e ON es.employee_id = e.employee_id WHERE es.attendance_status = 'Absent' AND es.date LIKE '2024%' GROUP BY e.employee_id, e.first_name, e.last_name HAVING COUNT(*) > 5 ORDER BY absence_count DESC\"\n",
    "    },\n",
    "    {\n",
    "      \"question\": \"What is the average downtime per machine location?\",\n",
    "      \"sql\": \"SELECT m.location, AVG(pl.downtime_minutes) as avg_downtime FROM production_logs pl JOIN machines m ON pl.machine_id = m.machine_id GROUP BY m.location ORDER BY avg_downtime DESC\"\n",
    "    },\n",
    "    {\n",
    "      \"question\": \"Which supervisor oversaw the most shifts in June 2024?\",\n",
    "      \"sql\": \"SELECT s.supervisor_id, e.first_name, e.last_name, COUNT(DISTINCT es.date || es.shift_id) as shift_count FROM employee_shifts es JOIN shifts s ON es.shift_id = s.shift_id JOIN employees e ON s.supervisor_id = e.employee_id WHERE es.date LIKE '2024-06%' GROUP BY s.supervisor_id, e.first_name, e.last_name ORDER BY shift_count DESC LIMIT 1\"\n",
    "    },\n",
    "    {\n",
    "      \"question\": \"How many days had full downtime for all machines in 2024?\",\n",
    "      \"sql\": \"SELECT COUNT(DISTINCT pl.date) as full_downtime_days FROM production_logs pl WHERE pl.downtime_minutes = 480 GROUP BY pl.date HAVING COUNT(*) = (SELECT COUNT(*) * 3 FROM machines)\"\n",
    "    },\n",
    "    {\n",
    "      \"question\": \"What is the total hours worked by employees with 'Expert' skill level?\",\n",
    "      \"sql\": \"SELECT SUM(es.hours_worked) as total_hours FROM employee_shifts es JOIN employees e ON es.employee_id = e.employee_id WHERE e.skill_level = 'Expert'\"\n",
    "    },\n",
    "    {\n",
    "      \"question\": \"Which machine produced the least good units on Night shifts?\",\n",
    "      \"sql\": \"SELECT m.machine_name, SUM(pl.good_units) as total_good_units FROM production_logs pl JOIN machines m ON pl.machine_id = m.machine_id JOIN shifts s ON pl.shift_id = s.shift_id WHERE s.shift_name = 'Night' GROUP BY m.machine_name ORDER BY total_good_units ASC LIMIT 1\"\n",
    "    }\n",
    "  ]\n",
    "}\n",
    "'''\n",
    "\n",
    "# Parse JSON\n",
    "data = json.loads(json_data)\n",
    "\n",
    "# Iterate and train\n",
    "for entry in data[\"training_data\"]:\n",
    "    vn_train(question=entry[\"question\"], sql=entry[\"sql\"])"
   ]
  },
  {
   "cell_type": "code",
   "execution_count": 10,
   "metadata": {},
   "outputs": [
    {
     "name": "stderr",
     "output_type": "stream",
     "text": [
      "Insert of existing embedding ID: 395e0306-d1ea-5e21-aac2-74c7ff93c91e-sql\n",
      "Add of existing embedding ID: 395e0306-d1ea-5e21-aac2-74c7ff93c91e-sql\n"
     ]
    },
    {
     "data": {
      "text/plain": [
       "'395e0306-d1ea-5e21-aac2-74c7ff93c91e-sql'"
      ]
     },
     "execution_count": 10,
     "metadata": {},
     "output_type": "execute_result"
    }
   ],
   "source": [
    "vn.train(question=\"Which machines had the highest total downtime in 2024?\", sql=\"SELECT m.machine_name, SUM(pl.downtime_minutes) as total_downtime FROM production_logs pl JOIN machines m ON pl.machine_id = m.machine_id WHERE pl.date LIKE '2024%' GROUP BY m.machine_name ORDER BY total_downtime DESC LIMIT 5\")"
   ]
  },
  {
   "cell_type": "code",
   "execution_count": 11,
   "metadata": {},
   "outputs": [],
   "source": [
    "vn.connect_to_sqlite('syskron_production.db')"
   ]
  },
  {
   "cell_type": "code",
   "execution_count": 12,
   "metadata": {},
   "outputs": [
    {
     "name": "stdout",
     "output_type": "stream",
     "text": [
      "Your app is running at:\n",
      "http://localhost:8084\n",
      " * Serving Flask app 'vanna.flask'\n",
      " * Debug mode: on\n"
     ]
    }
   ],
   "source": [
    "from vanna.flask import VannaFlaskApp\n",
    "app = VannaFlaskApp(vn)\n",
    "app.run()"
   ]
  },
  {
   "cell_type": "code",
   "execution_count": null,
   "metadata": {},
   "outputs": [],
   "source": []
  }
 ],
 "metadata": {
  "kernelspec": {
   "display_name": "Python 3",
   "language": "python",
   "name": "python3"
  },
  "language_info": {
   "codemirror_mode": {
    "name": "ipython",
    "version": 3
   },
   "file_extension": ".py",
   "mimetype": "text/x-python",
   "name": "python",
   "nbconvert_exporter": "python",
   "pygments_lexer": "ipython3",
   "version": "3.11.9"
  }
 },
 "nbformat": 4,
 "nbformat_minor": 2
}
