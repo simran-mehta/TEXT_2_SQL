{
 "cells": [
  {
   "cell_type": "code",
   "execution_count": 3,
   "metadata": {},
   "outputs": [],
   "source": [
    "import pandas as pd\n",
    "import numpy as np\n",
    "from datetime import datetime, timedelta\n",
    "import sqlite3\n",
    "import random\n",
    "import os\n",
    "from calendar import monthrange\n",
    "\n",
    "# Set random seed for reproducibility\n",
    "np.random.seed(42)\n",
    "random.seed(42)\n",
    "\n",
    "# Constants\n",
    "START_DATE = datetime(2024, 1, 1)\n",
    "END_DATE = datetime(2024, 12, 31)\n",
    "SHIFTS = ['Morning', 'Afternoon', 'Night']\n",
    "MACHINES = ['Filler_01', 'Packer_01', 'Labeler_01', 'Mixer_01', 'Capper_01']\n",
    "EMPLOYEES = [f'EMP{str(i).zfill(3)}' for i in range(1, 31)]\n",
    "LOCATIONS = ['Line_A', 'Line_B', 'Line_C']\n",
    "\n",
    "def generate_date_range():\n",
    "    total_days = (END_DATE - START_DATE).days + 1\n",
    "    return [START_DATE + timedelta(days=x) for x in range(total_days)]\n",
    "\n",
    "def get_monthly_downtime_days(year):\n",
    "    downtime_days = {}\n",
    "    for month in range(1, 13):\n",
    "        _, days_in_month = monthrange(year, month)\n",
    "        available_days = [datetime(year, month, day) for day in range(1, days_in_month + 1)]\n",
    "        downtime_days[month] = random.sample(available_days, 4)  # 4 downtime days per month\n",
    "    return downtime_days\n",
    "\n",
    "def create_database_schema():\n",
    "    conn = sqlite3.connect('syskron_production.db')\n",
    "    cursor = conn.cursor()\n",
    "    \n",
    "    cursor.execute('''\n",
    "        CREATE TABLE IF NOT EXISTS machines (\n",
    "            machine_id INTEGER PRIMARY KEY,\n",
    "            machine_name TEXT NOT NULL,\n",
    "            location TEXT NOT NULL,\n",
    "            installation_date DATE,\n",
    "            max_capacity_per_hour INTEGER,\n",
    "            maintenance_interval_days INTEGER,\n",
    "            last_maintenance_date DATE,\n",
    "            status TEXT\n",
    "        )\n",
    "    ''')\n",
    "    \n",
    "    cursor.execute('''\n",
    "        CREATE TABLE IF NOT EXISTS shifts (\n",
    "            shift_id INTEGER PRIMARY KEY,\n",
    "            shift_name TEXT NOT NULL,\n",
    "            start_time TEXT,\n",
    "            end_time TEXT,\n",
    "            supervisor_id TEXT,\n",
    "            target_output INTEGER,\n",
    "            shift_type TEXT,\n",
    "            active BOOLEAN\n",
    "        )\n",
    "    ''')\n",
    "    \n",
    "    cursor.execute('''\n",
    "        CREATE TABLE IF NOT EXISTS employees (\n",
    "            employee_id TEXT PRIMARY KEY,\n",
    "            first_name TEXT NOT NULL,\n",
    "            last_name TEXT NOT NULL,\n",
    "            hire_date DATE,\n",
    "            shift_preference TEXT,\n",
    "            skill_level TEXT,\n",
    "            hourly_rate REAL,\n",
    "            certification TEXT\n",
    "        )\n",
    "    ''')\n",
    "    \n",
    "    cursor.execute('''\n",
    "        CREATE TABLE IF NOT EXISTS production_logs (\n",
    "            production_id INTEGER PRIMARY KEY AUTOINCREMENT,\n",
    "            date DATE,\n",
    "            shift_id INTEGER,\n",
    "            machine_id INTEGER,\n",
    "            good_units INTEGER,\n",
    "            scrap_units INTEGER,\n",
    "            downtime_minutes INTEGER,\n",
    "            FOREIGN KEY (shift_id) REFERENCES shifts(shift_id),\n",
    "            FOREIGN KEY (machine_id) REFERENCES machines(machine_id)\n",
    "        )\n",
    "    ''')\n",
    "    \n",
    "    cursor.execute('''\n",
    "        CREATE TABLE IF NOT EXISTS employee_shifts (\n",
    "            assignment_id INTEGER PRIMARY KEY AUTOINCREMENT,\n",
    "            date DATE,\n",
    "            shift_id INTEGER,\n",
    "            employee_id TEXT,\n",
    "            hours_worked REAL,\n",
    "            overtime_hours REAL,\n",
    "            attendance_status TEXT,\n",
    "            FOREIGN KEY (shift_id) REFERENCES shifts(shift_id),\n",
    "            FOREIGN KEY (employee_id) REFERENCES employees(employee_id)\n",
    "        )\n",
    "    ''')\n",
    "    \n",
    "    conn.commit()\n",
    "    conn.close()\n",
    "\n",
    "def create_machines_data():\n",
    "    return pd.DataFrame({\n",
    "        'machine_id': range(1, len(MACHINES) + 1),\n",
    "        'machine_name': MACHINES,\n",
    "        'location': [random.choice(LOCATIONS) for _ in MACHINES],\n",
    "        'installation_date': [START_DATE - timedelta(days=random.randint(100, 1000)) for _ in MACHINES],\n",
    "        'max_capacity_per_hour': [random.randint(800, 1200) for _ in MACHINES],\n",
    "        'maintenance_interval_days': [random.randint(30, 90) for _ in MACHINES],\n",
    "        'last_maintenance_date': [START_DATE - timedelta(days=random.randint(0, 30)) for _ in MACHINES],\n",
    "        'status': ['Active' for _ in MACHINES]\n",
    "    })\n",
    "\n",
    "def create_shifts_data():\n",
    "    return pd.DataFrame({\n",
    "        'shift_id': range(1, len(SHIFTS) + 1),\n",
    "        'shift_name': SHIFTS,\n",
    "        'start_time': ['06:00', '14:00', '22:00'],\n",
    "        'end_time': ['14:00', '22:00', '06:00'],\n",
    "        'supervisor_id': [random.choice(EMPLOYEES[:5]) for _ in SHIFTS],\n",
    "        'target_output': [random.randint(5000, 8000) for _ in SHIFTS],\n",
    "        'shift_type': [random.choice(['Regular', 'Extended']) for _ in SHIFTS],\n",
    "        'active': [True for _ in SHIFTS]\n",
    "    })\n",
    "\n",
    "def create_employees_data():\n",
    "    return pd.DataFrame({\n",
    "        'employee_id': EMPLOYEES,\n",
    "        'first_name': [f'First_{i}' for i in range(1, 31)],\n",
    "        'last_name': [f'Last_{i}' for i in range(1, 31)],\n",
    "        'hire_date': [START_DATE - timedelta(days=random.randint(30, 1000)) for _ in EMPLOYEES],\n",
    "        'shift_preference': [random.choice(SHIFTS) for _ in EMPLOYEES],\n",
    "        'skill_level': [random.choice(['Junior', 'Senior', 'Expert']) for _ in EMPLOYEES],\n",
    "        'hourly_rate': [round(random.uniform(15.0, 30.0), 2) for _ in EMPLOYEES],\n",
    "        'certification': [random.choice(['Basic', 'Advanced', 'None']) for _ in EMPLOYEES]\n",
    "    })\n",
    "\n",
    "def create_production_logs(dates, machines_df, shifts_df):\n",
    "    records = []\n",
    "    downtime_days = get_monthly_downtime_days(2024)\n",
    "    \n",
    "    for date in dates:\n",
    "        date_str = date.strftime('%Y-%m-%d')\n",
    "        month = date.month\n",
    "        is_full_downtime = date in downtime_days[month]\n",
    "        \n",
    "        for shift_id in shifts_df['shift_id']:\n",
    "            for machine_id in machines_df['machine_id']:\n",
    "                if is_full_downtime:\n",
    "                    good_units = scrap_units = 0\n",
    "                    downtime_minutes = 480  # Full 8-hour downtime\n",
    "                else:\n",
    "                    # Random partial downtime (10% chance per shift-machine combo)\n",
    "                    is_partial_downtime = random.random() < 0.1\n",
    "                    if is_partial_downtime:\n",
    "                        good_units = scrap_units = 0\n",
    "                        downtime_minutes = random.randint(240, 480)  # 4-8 hours\n",
    "                    else:\n",
    "                        max_capacity = machines_df.loc[machine_id-1, 'max_capacity_per_hour'] * 8\n",
    "                        good_units = int(np.random.normal(max_capacity * 0.90, max_capacity * 0.03))\n",
    "                        scrap_units = int(np.random.normal(max_capacity * 0.03, max_capacity * 0.01))\n",
    "                        downtime_minutes = random.randint(0, 24)  # Minimal downtime\n",
    "                    \n",
    "                records.append({\n",
    "                    'date': date_str,\n",
    "                    'shift_id': shift_id,\n",
    "                    'machine_id': machine_id,\n",
    "                    'good_units': max(0, good_units),\n",
    "                    'scrap_units': max(0, scrap_units),\n",
    "                    'downtime_minutes': min(downtime_minutes, 480)\n",
    "                })\n",
    "    return pd.DataFrame(records)\n",
    "\n",
    "def create_employee_shifts(dates, employees_df, shifts_df):\n",
    "    records = []\n",
    "    downtime_days = get_monthly_downtime_days(2024)\n",
    "    \n",
    "    for date in dates:\n",
    "        date_str = date.strftime('%Y-%m-%d')\n",
    "        month = date.month\n",
    "        is_full_downtime = date in downtime_days[month]\n",
    "        \n",
    "        available_employees = employees_df['employee_id'].tolist()\n",
    "        random.shuffle(available_employees)\n",
    "        \n",
    "        for shift_id in shifts_df['shift_id']:\n",
    "            if is_full_downtime:\n",
    "                continue  # No employees assigned on full downtime days\n",
    "            # Random shift off (10% chance)\n",
    "            is_shift_off = random.random() < 0.1\n",
    "            if is_shift_off:\n",
    "                continue\n",
    "            \n",
    "            num_employees = random.randint(5, 8)\n",
    "            shift_employees = available_employees[:num_employees]\n",
    "            available_employees = available_employees[num_employees:]\n",
    "            \n",
    "            for emp_id in shift_employees:\n",
    "                hours_worked = random.uniform(7.5, 8.5)\n",
    "                overtime = max(0, hours_worked - 8.0)\n",
    "                records.append({\n",
    "                    'date': date_str,\n",
    "                    'shift_id': shift_id,\n",
    "                    'employee_id': emp_id,\n",
    "                    'hours_worked': round(hours_worked, 2),\n",
    "                    'overtime_hours': round(overtime, 2),\n",
    "                    'attendance_status': random.choice(['Present', 'Late', 'Absent'])\n",
    "                })\n",
    "    return pd.DataFrame(records)\n",
    "\n",
    "def export_to_sqlite(dfs):\n",
    "    conn = sqlite3.connect('syskron_production.db')\n",
    "    for table_name, df in dfs.items():\n",
    "        df.to_sql(table_name, conn, if_exists='replace', index=False)\n",
    "    conn.close()\n",
    "\n",
    "# def main():\n",
    "#     create_database_schema()\n",
    "#     dates = generate_date_range()\n",
    "#     machines_df = create_machines_data()\n",
    "#     shifts_df = create_shifts_data()\n",
    "#     employees_df = create_employees_data()\n",
    "#     production_df = create_production_logs(dates, machines_df, shifts_df)\n",
    "#     employee_shifts_df = create_employee_shifts(dates, employees_df, shifts_df)\n",
    "    \n",
    "#     tables = {\n",
    "#         'machines': machines_df,\n",
    "#         'shifts': shifts_df,\n",
    "#         'employees': employees_df,\n",
    "#         'production_logs': production_df,\n",
    "#         'employee_shifts': employee_shifts_df\n",
    "#     }\n",
    "    \n",
    "#     export_to_sqlite(tables)\n",
    "    \n",
    "#     print(\"Database creation complete!\")\n",
    "#     print(f\"Generated {len(dates)} days of data\")\n",
    "#     print(f\"Machines: {len(machines_df)} records\")\n",
    "#     print(f\"Shifts: {len(shifts_df)} records\")\n",
    "#     print(f\"Employees: {len(employees_df)} records\")\n",
    "#     print(f\"Production logs: {len(production_df)} records\")\n",
    "#     print(f\"Employee shifts: {len(employee_shifts_df)} records\")\n",
    "\n",
    "# if __name__ == \"__main__\":\n",
    "#     main()"
   ]
  },
  {
   "cell_type": "code",
   "execution_count": 4,
   "metadata": {},
   "outputs": [],
   "source": [
    "create_database_schema()"
   ]
  },
  {
   "cell_type": "code",
   "execution_count": 5,
   "metadata": {},
   "outputs": [],
   "source": [
    "dates = generate_date_range()\n",
    "machines_df = create_machines_data()\n",
    "shifts_df = create_shifts_data()\n",
    "employees_df = create_employees_data()\n",
    "production_df = create_production_logs(dates, machines_df, shifts_df)\n",
    "employee_shifts_df = create_employee_shifts(dates, employees_df, shifts_df)"
   ]
  },
  {
   "cell_type": "code",
   "execution_count": 6,
   "metadata": {},
   "outputs": [
    {
     "data": {
      "text/html": [
       "<div>\n",
       "<style scoped>\n",
       "    .dataframe tbody tr th:only-of-type {\n",
       "        vertical-align: middle;\n",
       "    }\n",
       "\n",
       "    .dataframe tbody tr th {\n",
       "        vertical-align: top;\n",
       "    }\n",
       "\n",
       "    .dataframe thead th {\n",
       "        text-align: right;\n",
       "    }\n",
       "</style>\n",
       "<table border=\"1\" class=\"dataframe\">\n",
       "  <thead>\n",
       "    <tr style=\"text-align: right;\">\n",
       "      <th></th>\n",
       "      <th>machine_id</th>\n",
       "      <th>machine_name</th>\n",
       "      <th>location</th>\n",
       "      <th>installation_date</th>\n",
       "      <th>max_capacity_per_hour</th>\n",
       "      <th>maintenance_interval_days</th>\n",
       "      <th>last_maintenance_date</th>\n",
       "      <th>status</th>\n",
       "    </tr>\n",
       "  </thead>\n",
       "  <tbody>\n",
       "    <tr>\n",
       "      <th>0</th>\n",
       "      <td>1</td>\n",
       "      <td>Filler_01</td>\n",
       "      <td>Line_C</td>\n",
       "      <td>2023-01-16</td>\n",
       "      <td>1146</td>\n",
       "      <td>57</td>\n",
       "      <td>2023-12-25</td>\n",
       "      <td>Active</td>\n",
       "    </tr>\n",
       "    <tr>\n",
       "      <th>1</th>\n",
       "      <td>2</td>\n",
       "      <td>Packer_01</td>\n",
       "      <td>Line_A</td>\n",
       "      <td>2023-02-07</td>\n",
       "      <td>1179</td>\n",
       "      <td>32</td>\n",
       "      <td>2023-12-16</td>\n",
       "      <td>Active</td>\n",
       "    </tr>\n",
       "    <tr>\n",
       "      <th>2</th>\n",
       "      <td>3</td>\n",
       "      <td>Labeler_01</td>\n",
       "      <td>Line_A</td>\n",
       "      <td>2023-05-04</td>\n",
       "      <td>1079</td>\n",
       "      <td>31</td>\n",
       "      <td>2023-12-13</td>\n",
       "      <td>Active</td>\n",
       "    </tr>\n",
       "    <tr>\n",
       "      <th>3</th>\n",
       "      <td>4</td>\n",
       "      <td>Mixer_01</td>\n",
       "      <td>Line_C</td>\n",
       "      <td>2021-08-30</td>\n",
       "      <td>844</td>\n",
       "      <td>35</td>\n",
       "      <td>2024-01-01</td>\n",
       "      <td>Active</td>\n",
       "    </tr>\n",
       "    <tr>\n",
       "      <th>4</th>\n",
       "      <td>5</td>\n",
       "      <td>Capper_01</td>\n",
       "      <td>Line_B</td>\n",
       "      <td>2023-06-11</td>\n",
       "      <td>1102</td>\n",
       "      <td>43</td>\n",
       "      <td>2023-12-15</td>\n",
       "      <td>Active</td>\n",
       "    </tr>\n",
       "  </tbody>\n",
       "</table>\n",
       "</div>"
      ],
      "text/plain": [
       "   machine_id machine_name location installation_date  max_capacity_per_hour  \\\n",
       "0           1    Filler_01   Line_C        2023-01-16                   1146   \n",
       "1           2    Packer_01   Line_A        2023-02-07                   1179   \n",
       "2           3   Labeler_01   Line_A        2023-05-04                   1079   \n",
       "3           4     Mixer_01   Line_C        2021-08-30                    844   \n",
       "4           5    Capper_01   Line_B        2023-06-11                   1102   \n",
       "\n",
       "   maintenance_interval_days last_maintenance_date  status  \n",
       "0                         57            2023-12-25  Active  \n",
       "1                         32            2023-12-16  Active  \n",
       "2                         31            2023-12-13  Active  \n",
       "3                         35            2024-01-01  Active  \n",
       "4                         43            2023-12-15  Active  "
      ]
     },
     "execution_count": 6,
     "metadata": {},
     "output_type": "execute_result"
    }
   ],
   "source": [
    "machines_df.head()"
   ]
  },
  {
   "cell_type": "code",
   "execution_count": 7,
   "metadata": {},
   "outputs": [
    {
     "data": {
      "text/html": [
       "<div>\n",
       "<style scoped>\n",
       "    .dataframe tbody tr th:only-of-type {\n",
       "        vertical-align: middle;\n",
       "    }\n",
       "\n",
       "    .dataframe tbody tr th {\n",
       "        vertical-align: top;\n",
       "    }\n",
       "\n",
       "    .dataframe thead th {\n",
       "        text-align: right;\n",
       "    }\n",
       "</style>\n",
       "<table border=\"1\" class=\"dataframe\">\n",
       "  <thead>\n",
       "    <tr style=\"text-align: right;\">\n",
       "      <th></th>\n",
       "      <th>shift_id</th>\n",
       "      <th>shift_name</th>\n",
       "      <th>start_time</th>\n",
       "      <th>end_time</th>\n",
       "      <th>supervisor_id</th>\n",
       "      <th>target_output</th>\n",
       "      <th>shift_type</th>\n",
       "      <th>active</th>\n",
       "    </tr>\n",
       "  </thead>\n",
       "  <tbody>\n",
       "    <tr>\n",
       "      <th>0</th>\n",
       "      <td>1</td>\n",
       "      <td>Morning</td>\n",
       "      <td>06:00</td>\n",
       "      <td>14:00</td>\n",
       "      <td>EMP002</td>\n",
       "      <td>5902</td>\n",
       "      <td>Extended</td>\n",
       "      <td>True</td>\n",
       "    </tr>\n",
       "    <tr>\n",
       "      <th>1</th>\n",
       "      <td>2</td>\n",
       "      <td>Afternoon</td>\n",
       "      <td>14:00</td>\n",
       "      <td>22:00</td>\n",
       "      <td>EMP005</td>\n",
       "      <td>6839</td>\n",
       "      <td>Regular</td>\n",
       "      <td>True</td>\n",
       "    </tr>\n",
       "    <tr>\n",
       "      <th>2</th>\n",
       "      <td>3</td>\n",
       "      <td>Night</td>\n",
       "      <td>22:00</td>\n",
       "      <td>06:00</td>\n",
       "      <td>EMP004</td>\n",
       "      <td>7413</td>\n",
       "      <td>Regular</td>\n",
       "      <td>True</td>\n",
       "    </tr>\n",
       "  </tbody>\n",
       "</table>\n",
       "</div>"
      ],
      "text/plain": [
       "   shift_id shift_name start_time end_time supervisor_id  target_output  \\\n",
       "0         1    Morning      06:00    14:00        EMP002           5902   \n",
       "1         2  Afternoon      14:00    22:00        EMP005           6839   \n",
       "2         3      Night      22:00    06:00        EMP004           7413   \n",
       "\n",
       "  shift_type  active  \n",
       "0   Extended    True  \n",
       "1    Regular    True  \n",
       "2    Regular    True  "
      ]
     },
     "execution_count": 7,
     "metadata": {},
     "output_type": "execute_result"
    }
   ],
   "source": [
    "shifts_df.head()"
   ]
  },
  {
   "cell_type": "code",
   "execution_count": 8,
   "metadata": {},
   "outputs": [
    {
     "data": {
      "text/html": [
       "<div>\n",
       "<style scoped>\n",
       "    .dataframe tbody tr th:only-of-type {\n",
       "        vertical-align: middle;\n",
       "    }\n",
       "\n",
       "    .dataframe tbody tr th {\n",
       "        vertical-align: top;\n",
       "    }\n",
       "\n",
       "    .dataframe thead th {\n",
       "        text-align: right;\n",
       "    }\n",
       "</style>\n",
       "<table border=\"1\" class=\"dataframe\">\n",
       "  <thead>\n",
       "    <tr style=\"text-align: right;\">\n",
       "      <th></th>\n",
       "      <th>employee_id</th>\n",
       "      <th>first_name</th>\n",
       "      <th>last_name</th>\n",
       "      <th>hire_date</th>\n",
       "      <th>shift_preference</th>\n",
       "      <th>skill_level</th>\n",
       "      <th>hourly_rate</th>\n",
       "      <th>certification</th>\n",
       "    </tr>\n",
       "  </thead>\n",
       "  <tbody>\n",
       "    <tr>\n",
       "      <th>0</th>\n",
       "      <td>EMP001</td>\n",
       "      <td>First_1</td>\n",
       "      <td>Last_1</td>\n",
       "      <td>2021-12-18</td>\n",
       "      <td>Night</td>\n",
       "      <td>Junior</td>\n",
       "      <td>21.88</td>\n",
       "      <td>Advanced</td>\n",
       "    </tr>\n",
       "    <tr>\n",
       "      <th>1</th>\n",
       "      <td>EMP002</td>\n",
       "      <td>First_2</td>\n",
       "      <td>Last_2</td>\n",
       "      <td>2022-09-26</td>\n",
       "      <td>Afternoon</td>\n",
       "      <td>Expert</td>\n",
       "      <td>18.97</td>\n",
       "      <td>Basic</td>\n",
       "    </tr>\n",
       "    <tr>\n",
       "      <th>2</th>\n",
       "      <td>EMP003</td>\n",
       "      <td>First_3</td>\n",
       "      <td>Last_3</td>\n",
       "      <td>2022-12-19</td>\n",
       "      <td>Night</td>\n",
       "      <td>Expert</td>\n",
       "      <td>18.70</td>\n",
       "      <td>Advanced</td>\n",
       "    </tr>\n",
       "    <tr>\n",
       "      <th>3</th>\n",
       "      <td>EMP004</td>\n",
       "      <td>First_4</td>\n",
       "      <td>Last_4</td>\n",
       "      <td>2023-02-21</td>\n",
       "      <td>Morning</td>\n",
       "      <td>Junior</td>\n",
       "      <td>23.42</td>\n",
       "      <td>Basic</td>\n",
       "    </tr>\n",
       "    <tr>\n",
       "      <th>4</th>\n",
       "      <td>EMP005</td>\n",
       "      <td>First_5</td>\n",
       "      <td>Last_5</td>\n",
       "      <td>2023-06-26</td>\n",
       "      <td>Night</td>\n",
       "      <td>Junior</td>\n",
       "      <td>18.94</td>\n",
       "      <td>None</td>\n",
       "    </tr>\n",
       "  </tbody>\n",
       "</table>\n",
       "</div>"
      ],
      "text/plain": [
       "  employee_id first_name last_name  hire_date shift_preference skill_level  \\\n",
       "0      EMP001    First_1    Last_1 2021-12-18            Night      Junior   \n",
       "1      EMP002    First_2    Last_2 2022-09-26        Afternoon      Expert   \n",
       "2      EMP003    First_3    Last_3 2022-12-19            Night      Expert   \n",
       "3      EMP004    First_4    Last_4 2023-02-21          Morning      Junior   \n",
       "4      EMP005    First_5    Last_5 2023-06-26            Night      Junior   \n",
       "\n",
       "   hourly_rate certification  \n",
       "0        21.88      Advanced  \n",
       "1        18.97         Basic  \n",
       "2        18.70      Advanced  \n",
       "3        23.42         Basic  \n",
       "4        18.94          None  "
      ]
     },
     "execution_count": 8,
     "metadata": {},
     "output_type": "execute_result"
    }
   ],
   "source": [
    "employees_df.head()"
   ]
  },
  {
   "cell_type": "code",
   "execution_count": 9,
   "metadata": {},
   "outputs": [
    {
     "data": {
      "text/html": [
       "<div>\n",
       "<style scoped>\n",
       "    .dataframe tbody tr th:only-of-type {\n",
       "        vertical-align: middle;\n",
       "    }\n",
       "\n",
       "    .dataframe tbody tr th {\n",
       "        vertical-align: top;\n",
       "    }\n",
       "\n",
       "    .dataframe thead th {\n",
       "        text-align: right;\n",
       "    }\n",
       "</style>\n",
       "<table border=\"1\" class=\"dataframe\">\n",
       "  <thead>\n",
       "    <tr style=\"text-align: right;\">\n",
       "      <th></th>\n",
       "      <th>date</th>\n",
       "      <th>shift_id</th>\n",
       "      <th>machine_id</th>\n",
       "      <th>good_units</th>\n",
       "      <th>scrap_units</th>\n",
       "      <th>downtime_minutes</th>\n",
       "    </tr>\n",
       "  </thead>\n",
       "  <tbody>\n",
       "    <tr>\n",
       "      <th>0</th>\n",
       "      <td>2024-01-01</td>\n",
       "      <td>1</td>\n",
       "      <td>1</td>\n",
       "      <td>0</td>\n",
       "      <td>0</td>\n",
       "      <td>401</td>\n",
       "    </tr>\n",
       "    <tr>\n",
       "      <th>1</th>\n",
       "      <td>2024-01-01</td>\n",
       "      <td>1</td>\n",
       "      <td>2</td>\n",
       "      <td>0</td>\n",
       "      <td>0</td>\n",
       "      <td>257</td>\n",
       "    </tr>\n",
       "    <tr>\n",
       "      <th>2</th>\n",
       "      <td>2024-01-01</td>\n",
       "      <td>1</td>\n",
       "      <td>3</td>\n",
       "      <td>7897</td>\n",
       "      <td>247</td>\n",
       "      <td>10</td>\n",
       "    </tr>\n",
       "    <tr>\n",
       "      <th>3</th>\n",
       "      <td>2024-01-01</td>\n",
       "      <td>1</td>\n",
       "      <td>4</td>\n",
       "      <td>0</td>\n",
       "      <td>0</td>\n",
       "      <td>300</td>\n",
       "    </tr>\n",
       "    <tr>\n",
       "      <th>4</th>\n",
       "      <td>2024-01-01</td>\n",
       "      <td>1</td>\n",
       "      <td>5</td>\n",
       "      <td>8105</td>\n",
       "      <td>398</td>\n",
       "      <td>15</td>\n",
       "    </tr>\n",
       "    <tr>\n",
       "      <th>5</th>\n",
       "      <td>2024-01-01</td>\n",
       "      <td>2</td>\n",
       "      <td>1</td>\n",
       "      <td>8186</td>\n",
       "      <td>253</td>\n",
       "      <td>4</td>\n",
       "    </tr>\n",
       "    <tr>\n",
       "      <th>6</th>\n",
       "      <td>2024-01-01</td>\n",
       "      <td>2</td>\n",
       "      <td>2</td>\n",
       "      <td>8935</td>\n",
       "      <td>355</td>\n",
       "      <td>18</td>\n",
       "    </tr>\n",
       "    <tr>\n",
       "      <th>7</th>\n",
       "      <td>2024-01-01</td>\n",
       "      <td>2</td>\n",
       "      <td>3</td>\n",
       "      <td>7647</td>\n",
       "      <td>305</td>\n",
       "      <td>7</td>\n",
       "    </tr>\n",
       "    <tr>\n",
       "      <th>8</th>\n",
       "      <td>2024-01-01</td>\n",
       "      <td>2</td>\n",
       "      <td>4</td>\n",
       "      <td>5982</td>\n",
       "      <td>171</td>\n",
       "      <td>13</td>\n",
       "    </tr>\n",
       "    <tr>\n",
       "      <th>9</th>\n",
       "      <td>2024-01-01</td>\n",
       "      <td>2</td>\n",
       "      <td>5</td>\n",
       "      <td>7998</td>\n",
       "      <td>95</td>\n",
       "      <td>3</td>\n",
       "    </tr>\n",
       "    <tr>\n",
       "      <th>10</th>\n",
       "      <td>2024-01-01</td>\n",
       "      <td>3</td>\n",
       "      <td>1</td>\n",
       "      <td>7776</td>\n",
       "      <td>223</td>\n",
       "      <td>11</td>\n",
       "    </tr>\n",
       "    <tr>\n",
       "      <th>11</th>\n",
       "      <td>2024-01-01</td>\n",
       "      <td>3</td>\n",
       "      <td>2</td>\n",
       "      <td>8202</td>\n",
       "      <td>312</td>\n",
       "      <td>14</td>\n",
       "    </tr>\n",
       "    <tr>\n",
       "      <th>12</th>\n",
       "      <td>2024-01-01</td>\n",
       "      <td>3</td>\n",
       "      <td>3</td>\n",
       "      <td>7533</td>\n",
       "      <td>137</td>\n",
       "      <td>1</td>\n",
       "    </tr>\n",
       "    <tr>\n",
       "      <th>13</th>\n",
       "      <td>2024-01-01</td>\n",
       "      <td>3</td>\n",
       "      <td>4</td>\n",
       "      <td>6373</td>\n",
       "      <td>187</td>\n",
       "      <td>20</td>\n",
       "    </tr>\n",
       "    <tr>\n",
       "      <th>14</th>\n",
       "      <td>2024-01-01</td>\n",
       "      <td>3</td>\n",
       "      <td>5</td>\n",
       "      <td>0</td>\n",
       "      <td>0</td>\n",
       "      <td>343</td>\n",
       "    </tr>\n",
       "    <tr>\n",
       "      <th>15</th>\n",
       "      <td>2024-01-02</td>\n",
       "      <td>1</td>\n",
       "      <td>1</td>\n",
       "      <td>0</td>\n",
       "      <td>0</td>\n",
       "      <td>480</td>\n",
       "    </tr>\n",
       "    <tr>\n",
       "      <th>16</th>\n",
       "      <td>2024-01-02</td>\n",
       "      <td>1</td>\n",
       "      <td>2</td>\n",
       "      <td>0</td>\n",
       "      <td>0</td>\n",
       "      <td>480</td>\n",
       "    </tr>\n",
       "    <tr>\n",
       "      <th>17</th>\n",
       "      <td>2024-01-02</td>\n",
       "      <td>1</td>\n",
       "      <td>3</td>\n",
       "      <td>0</td>\n",
       "      <td>0</td>\n",
       "      <td>480</td>\n",
       "    </tr>\n",
       "    <tr>\n",
       "      <th>18</th>\n",
       "      <td>2024-01-02</td>\n",
       "      <td>1</td>\n",
       "      <td>4</td>\n",
       "      <td>0</td>\n",
       "      <td>0</td>\n",
       "      <td>480</td>\n",
       "    </tr>\n",
       "    <tr>\n",
       "      <th>19</th>\n",
       "      <td>2024-01-02</td>\n",
       "      <td>1</td>\n",
       "      <td>5</td>\n",
       "      <td>0</td>\n",
       "      <td>0</td>\n",
       "      <td>480</td>\n",
       "    </tr>\n",
       "  </tbody>\n",
       "</table>\n",
       "</div>"
      ],
      "text/plain": [
       "          date  shift_id  machine_id  good_units  scrap_units  \\\n",
       "0   2024-01-01         1           1           0            0   \n",
       "1   2024-01-01         1           2           0            0   \n",
       "2   2024-01-01         1           3        7897          247   \n",
       "3   2024-01-01         1           4           0            0   \n",
       "4   2024-01-01         1           5        8105          398   \n",
       "5   2024-01-01         2           1        8186          253   \n",
       "6   2024-01-01         2           2        8935          355   \n",
       "7   2024-01-01         2           3        7647          305   \n",
       "8   2024-01-01         2           4        5982          171   \n",
       "9   2024-01-01         2           5        7998           95   \n",
       "10  2024-01-01         3           1        7776          223   \n",
       "11  2024-01-01         3           2        8202          312   \n",
       "12  2024-01-01         3           3        7533          137   \n",
       "13  2024-01-01         3           4        6373          187   \n",
       "14  2024-01-01         3           5           0            0   \n",
       "15  2024-01-02         1           1           0            0   \n",
       "16  2024-01-02         1           2           0            0   \n",
       "17  2024-01-02         1           3           0            0   \n",
       "18  2024-01-02         1           4           0            0   \n",
       "19  2024-01-02         1           5           0            0   \n",
       "\n",
       "    downtime_minutes  \n",
       "0                401  \n",
       "1                257  \n",
       "2                 10  \n",
       "3                300  \n",
       "4                 15  \n",
       "5                  4  \n",
       "6                 18  \n",
       "7                  7  \n",
       "8                 13  \n",
       "9                  3  \n",
       "10                11  \n",
       "11                14  \n",
       "12                 1  \n",
       "13                20  \n",
       "14               343  \n",
       "15               480  \n",
       "16               480  \n",
       "17               480  \n",
       "18               480  \n",
       "19               480  "
      ]
     },
     "execution_count": 9,
     "metadata": {},
     "output_type": "execute_result"
    }
   ],
   "source": [
    "production_df.head(20)"
   ]
  },
  {
   "cell_type": "code",
   "execution_count": 10,
   "metadata": {},
   "outputs": [
    {
     "data": {
      "text/html": [
       "<div>\n",
       "<style scoped>\n",
       "    .dataframe tbody tr th:only-of-type {\n",
       "        vertical-align: middle;\n",
       "    }\n",
       "\n",
       "    .dataframe tbody tr th {\n",
       "        vertical-align: top;\n",
       "    }\n",
       "\n",
       "    .dataframe thead th {\n",
       "        text-align: right;\n",
       "    }\n",
       "</style>\n",
       "<table border=\"1\" class=\"dataframe\">\n",
       "  <thead>\n",
       "    <tr style=\"text-align: right;\">\n",
       "      <th></th>\n",
       "      <th>date</th>\n",
       "      <th>shift_id</th>\n",
       "      <th>employee_id</th>\n",
       "      <th>hours_worked</th>\n",
       "      <th>overtime_hours</th>\n",
       "      <th>attendance_status</th>\n",
       "    </tr>\n",
       "  </thead>\n",
       "  <tbody>\n",
       "    <tr>\n",
       "      <th>0</th>\n",
       "      <td>2024-01-01</td>\n",
       "      <td>1</td>\n",
       "      <td>EMP026</td>\n",
       "      <td>8.25</td>\n",
       "      <td>0.25</td>\n",
       "      <td>Absent</td>\n",
       "    </tr>\n",
       "    <tr>\n",
       "      <th>1</th>\n",
       "      <td>2024-01-01</td>\n",
       "      <td>1</td>\n",
       "      <td>EMP002</td>\n",
       "      <td>7.90</td>\n",
       "      <td>0.00</td>\n",
       "      <td>Late</td>\n",
       "    </tr>\n",
       "    <tr>\n",
       "      <th>2</th>\n",
       "      <td>2024-01-01</td>\n",
       "      <td>1</td>\n",
       "      <td>EMP030</td>\n",
       "      <td>7.51</td>\n",
       "      <td>0.00</td>\n",
       "      <td>Present</td>\n",
       "    </tr>\n",
       "    <tr>\n",
       "      <th>3</th>\n",
       "      <td>2024-01-01</td>\n",
       "      <td>1</td>\n",
       "      <td>EMP025</td>\n",
       "      <td>8.32</td>\n",
       "      <td>0.32</td>\n",
       "      <td>Present</td>\n",
       "    </tr>\n",
       "    <tr>\n",
       "      <th>4</th>\n",
       "      <td>2024-01-01</td>\n",
       "      <td>1</td>\n",
       "      <td>EMP024</td>\n",
       "      <td>7.60</td>\n",
       "      <td>0.00</td>\n",
       "      <td>Absent</td>\n",
       "    </tr>\n",
       "  </tbody>\n",
       "</table>\n",
       "</div>"
      ],
      "text/plain": [
       "         date  shift_id employee_id  hours_worked  overtime_hours  \\\n",
       "0  2024-01-01         1      EMP026          8.25            0.25   \n",
       "1  2024-01-01         1      EMP002          7.90            0.00   \n",
       "2  2024-01-01         1      EMP030          7.51            0.00   \n",
       "3  2024-01-01         1      EMP025          8.32            0.32   \n",
       "4  2024-01-01         1      EMP024          7.60            0.00   \n",
       "\n",
       "  attendance_status  \n",
       "0            Absent  \n",
       "1              Late  \n",
       "2           Present  \n",
       "3           Present  \n",
       "4            Absent  "
      ]
     },
     "execution_count": 10,
     "metadata": {},
     "output_type": "execute_result"
    }
   ],
   "source": [
    "employee_shifts_df.head()"
   ]
  },
  {
   "cell_type": "code",
   "execution_count": 11,
   "metadata": {},
   "outputs": [],
   "source": [
    "import matplotlib.pyplot as plt\n",
    "import pandas as pd\n",
    "import numpy as np"
   ]
  },
  {
   "cell_type": "code",
   "execution_count": 12,
   "metadata": {},
   "outputs": [],
   "source": [
    "import matplotlib.pyplot as plt\n",
    "import pandas as pd\n",
    "\n",
    "def plot_monthly_downtime(df, start_month, end_month):\n",
    "    \"\"\"\n",
    "    Plots monthly downtime trends for the given DataFrame within the specified date range.\n",
    "    \n",
    "    Parameters:\n",
    "    df (pd.DataFrame): The production logs DataFrame with 'date' and 'downtime_minutes'.\n",
    "    start_month (str): The start month in 'YYYY-MM' format.\n",
    "    end_month (str): The end month in 'YYYY-MM' format.\n",
    "    \"\"\"\n",
    "    # Ensure 'date' is in datetime format\n",
    "    df = df.copy()  # Avoid modifying the original DataFrame\n",
    "    df[\"date\"] = pd.to_datetime(df[\"date\"])\n",
    "    \n",
    "    # Extract month-year for grouping\n",
    "    df[\"month\"] = df[\"date\"].dt.to_period(\"M\")\n",
    "    \n",
    "    # Filter data within the given date range\n",
    "    df_filtered = df[(df[\"month\"] >= start_month) & (df[\"month\"] <= end_month)]\n",
    "    \n",
    "    # Aggregate total downtime per month\n",
    "    monthly_downtime = df_filtered.groupby(\"month\")[\"downtime_minutes\"].sum()\n",
    "\n",
    "    # Plot the monthly downtime trend\n",
    "    plt.figure(figsize=(8, 5))\n",
    "    monthly_downtime.plot(kind=\"bar\", color=\"orange\", edgecolor=\"black\")\n",
    "    plt.xlabel(\"Month\")\n",
    "    plt.ylabel(\"Total Downtime (Minutes)\")\n",
    "    plt.title(\"Monthly Downtime Trend\")\n",
    "    plt.xticks(rotation=45)\n",
    "    plt.grid(axis=\"y\", linestyle=\"--\", alpha=0.7)\n",
    "    \n",
    "    # Show the plot\n",
    "    plt.show()\n"
   ]
  },
  {
   "cell_type": "code",
   "execution_count": 13,
   "metadata": {},
   "outputs": [
    {
     "data": {
      "image/png": "[encoded data removed]",
      "text/plain": [
       "<Figure size 800x500 with 1 Axes>"
      ]
     },
     "metadata": {},
     "output_type": "display_data"
    }
   ],
   "source": [
    "plot_monthly_downtime(production_df, \"2024-01\", \"2024-06\")\n"
   ]
  },
  {
   "cell_type": "code",
   "execution_count": 14,
   "metadata": {},
   "outputs": [],
   "source": [
    "import pandas as pd\n",
    "\n",
    "def get_off_days(df, target_month):\n",
    "    \"\"\"\n",
    "    Finds the number of days and exact dates when production was off in a given month.\n",
    "\n",
    "    Parameters:\n",
    "    df (pd.DataFrame): The production logs DataFrame with 'date' and 'good_units' columns.\n",
    "    target_month (str): The target month in 'YYYY-MM' format.\n",
    "\n",
    "    Returns:\n",
    "    tuple: (number of off days, list of dates when production was off)\n",
    "    \"\"\"\n",
    "    # Ensure 'date' is in datetime format\n",
    "    df = df.copy()\n",
    "    df[\"date\"] = pd.to_datetime(df[\"date\"])\n",
    "    \n",
    "    # Extract month-year for filtering\n",
    "    df[\"month\"] = df[\"date\"].dt.to_period(\"M\")\n",
    "    \n",
    "    # Filter data for the given month\n",
    "    df_filtered = df[df[\"month\"] == target_month]\n",
    "    \n",
    "    # Group by date and sum good_units to find off days\n",
    "    daily_production = df_filtered.groupby(\"date\")[\"good_units\"].sum()\n",
    "    off_days = daily_production[daily_production == 0].index.tolist()\n",
    "\n",
    "    return len(off_days), off_days\n"
   ]
  },
  {
   "cell_type": "code",
   "execution_count": 15,
   "metadata": {},
   "outputs": [
    {
     "name": "stdout",
     "output_type": "stream",
     "text": [
      "Total off days: 4, Off days: [Timestamp('2024-02-03 00:00:00'), Timestamp('2024-02-16 00:00:00'), Timestamp('2024-02-24 00:00:00'), Timestamp('2024-02-27 00:00:00')]\n"
     ]
    }
   ],
   "source": [
    "num_off_days, off_days_list = get_off_days(production_df, \"2024-02\")\n",
    "print(f\"Total off days: {num_off_days}, Off days: {off_days_list}\")\n"
   ]
  },
  {
   "cell_type": "code",
   "execution_count": 16,
   "metadata": {},
   "outputs": [],
   "source": [
    "import matplotlib.pyplot as plt\n",
    "\n",
    "def plot_good_vs_scrap_units(df, target_month):\n",
    "    \"\"\"\n",
    "    Plots a multi-bar chart of good units and scrap units for each date in the target month.\n",
    "\n",
    "    Parameters:\n",
    "    df (pd.DataFrame): The production logs DataFrame with 'date', 'good_units', and 'scrap_units' columns.\n",
    "    target_month (str): The target month in 'YYYY-MM' format.\n",
    "    \"\"\"\n",
    "    # Ensure 'date' is in datetime format\n",
    "    df = df.copy()\n",
    "    df[\"date\"] = pd.to_datetime(df[\"date\"])\n",
    "    \n",
    "    # Extract month-year for filtering\n",
    "    df[\"month\"] = df[\"date\"].dt.to_period(\"M\")\n",
    "    \n",
    "    # Filter data for the given month\n",
    "    df_filtered = df[df[\"month\"] == target_month]\n",
    "    \n",
    "    # Group by date to sum good units and scrap units\n",
    "    daily_data = df_filtered.groupby(\"date\")[[\"good_units\", \"scrap_units\"]].sum()\n",
    "\n",
    "    # Plot the multi-bar chart\n",
    "    plt.figure(figsize=(10, 5))\n",
    "    bar_width = 0.4\n",
    "    x = range(len(daily_data))\n",
    "\n",
    "    plt.bar(x, daily_data[\"good_units\"], width=bar_width, label=\"Good Units\", color=\"green\", align=\"center\")\n",
    "    plt.bar(x, daily_data[\"scrap_units\"], width=bar_width, label=\"Scrap Units\", color=\"red\", align=\"edge\")\n",
    "\n",
    "    # Formatting the plot\n",
    "    plt.xlabel(\"Date\")\n",
    "    plt.ylabel(\"Units\")\n",
    "    plt.title(f\"Good vs Scrap Units - {target_month}\")\n",
    "    plt.xticks(x, daily_data.index.strftime(\"%Y-%m-%d\"), rotation=45)\n",
    "    plt.legend()\n",
    "    plt.grid(axis=\"y\", linestyle=\"--\", alpha=0.7)\n",
    "    \n",
    "    # Show the plot\n",
    "    plt.show()\n"
   ]
  },
  {
   "cell_type": "code",
   "execution_count": 17,
   "metadata": {},
   "outputs": [
    {
     "data": {
      "image/png": "[encoded data removed]",
      "text/plain": [
       "<Figure size 1000x500 with 1 Axes>"
      ]
     },
     "metadata": {},
     "output_type": "display_data"
    }
   ],
   "source": [
    "plot_good_vs_scrap_units(production_df, \"2024-02\")\n"
   ]
  },
  {
   "cell_type": "code",
   "execution_count": 18,
   "metadata": {},
   "outputs": [],
   "source": [
    "import pandas as pd\n",
    "import plotly.express as px\n",
    "import plotly.graph_objects as go\n",
    "\n",
    "def visualize_shift_operations(df, target_month):\n",
    "    \"\"\"\n",
    "    Creates heatmap and stacked bar chart to show which shifts were operational for each day in the target month.\n",
    "    \n",
    "    Parameters:\n",
    "    df (pd.DataFrame): Production logs DataFrame with 'date', 'shift_id', and 'good_units' columns.\n",
    "    target_month (str): The target month in 'YYYY-MM' format.\n",
    "    \"\"\"\n",
    "    # Convert 'date' column to datetime\n",
    "    df = df.copy()\n",
    "    df[\"date\"] = pd.to_datetime(df[\"date\"])\n",
    "\n",
    "    # Extract year-month for filtering\n",
    "    df[\"month\"] = df[\"date\"].dt.to_period(\"M\")\n",
    "\n",
    "    # Filter data for the given target month\n",
    "    df_filtered = df[df[\"month\"] == target_month]\n",
    "\n",
    "    # Aggregate: Count how many machines were running per shift each day\n",
    "    df_grouped = df_filtered.groupby([\"date\", \"shift_id\"])[\"good_units\"].apply(lambda x: (x > 0).sum()).reset_index()\n",
    "    \n",
    "    # ---- Heatmap Plot ----\n",
    "    heatmap_fig = px.imshow(\n",
    "        df_grouped.pivot(index=\"date\", columns=\"shift_id\", values=\"good_units\"),\n",
    "        labels=dict(color=\"Machines Running\"),\n",
    "        title=f\"Shift Operations Heatmap - {target_month}\",\n",
    "        color_continuous_scale=\"Blues\"\n",
    "    )\n",
    "    \n",
    "    heatmap_fig.update_layout(\n",
    "        xaxis_title=\"Shift ID\",\n",
    "        yaxis_title=\"Date\",\n",
    "        xaxis_type=\"category\",\n",
    "        yaxis_type=\"category\"\n",
    "    )\n",
    "\n",
    "    # ---- Stacked Bar Chart ----\n",
    "    bar_fig = px.bar(\n",
    "        df_grouped, x=\"date\", y=\"good_units\", color=\"shift_id\",\n",
    "        title=f\"Operational Machines Per Shift - {target_month}\",\n",
    "        labels={\"good_units\": \"Number of Machines Running\", \"date\": \"Date\", \"shift_id\": \"Shift\"},\n",
    "        barmode=\"stack\"\n",
    "    )\n",
    "\n",
    "    # Show plots\n",
    "    heatmap_fig.show()\n",
    "    bar_fig.show()\n"
   ]
  },
  {
   "cell_type": "code",
   "execution_count": 19,
   "metadata": {},
   "outputs": [
    {
     "data": {
      "application/vnd.plotly.v1+json": {
       "config": {
        "plotlyServerURL": "https://plot.ly"
       },
       "data": [
        {
         "coloraxis": "coloraxis",
         "hovertemplate": "shift_id: %{x}<br>date: %{y}<br>Machines Running: %{z}<extra></extra>",
         "name": "0",
         "type": "heatmap",
         "x": {
          "bdata": "AQID",
          "dtype": "i1"
         },
         "xaxis": "x",
         "y": [
          "2024-01-01T00:00:00",
          "2024-01-02T00:00:00",
          "2024-01-03T00:00:00",
          "2024-01-04T00:00:00",
          "2024-01-05T00:00:00",
          "2024-01-06T00:00:00",
          "2024-01-07T00:00:00",
          "2024-01-08T00:00:00",
          "2024-01-09T00:00:00",
          "2024-01-10T00:00:00",
          "2024-01-11T00:00:00",
          "2024-01-12T00:00:00",
          "2024-01-13T00:00:00",
          "2024-01-14T00:00:00",
          "2024-01-15T00:00:00",
          "2024-01-16T00:00:00",
          "2024-01-17T00:00:00",
          "2024-01-18T00:00:00",
          "2024-01-19T00:00:00",
          "2024-01-20T00:00:00",
          "2024-01-21T00:00:00",
          "2024-01-22T00:00:00",
          "2024-01-23T00:00:00",
          "2024-01-24T00:00:00",
          "2024-01-25T00:00:00",
          "2024-01-26T00:00:00",
          "2024-01-27T00:00:00",
          "2024-01-28T00:00:00",
          "2024-01-29T00:00:00",
          "2024-01-30T00:00:00",
          "2024-01-31T00:00:00"
         ],
         "yaxis": "y",
         "z": {
          "bdata": "AgUEAAAABQQFBQMDBAQEBQUEBAQFAAAABQUFBQQFBQUFBQUEBAUFBQUDBAQFBQQFBQQFBQUFAAAABQUFBQUEBQUFBQUEBAUEBAQEBQMEBQUEBQQDAAAABQUFBQQF",
          "dtype": "i1",
          "shape": "31, 3"
         }
        }
       ],
       "layout": {
        "coloraxis": {
         "colorbar": {
          "title": {
           "text": "Machines Running"
          }
         },
         "colorscale": [
          [
           0,
           "rgb(247,251,255)"
          ],
          [
           0.125,
           "rgb(222,235,247)"
          ],
          [
           0.25,
           "rgb(198,219,239)"
          ],
          [
           0.375,
           "rgb(158,202,225)"
          ],
          [
           0.5,
           "rgb(107,174,214)"
          ],
          [
           0.625,
           "rgb(66,146,198)"
          ],
          [
           0.75,
           "rgb(33,113,181)"
          ],
          [
           0.875,
           "rgb(8,81,156)"
          ],
          [
           1,
           "rgb(8,48,107)"
          ]
         ]
        },
        "template": {
         "data": {
          "bar": [
           {
            "error_x": {
             "color": "#2a3f5f"
            },
            "error_y": {
             "color": "#2a3f5f"
            },
            "marker": {
             "line": {
              "color": "#E5ECF6",
              "width": 0.5
             },
             "pattern": {
              "fillmode": "overlay",
              "size": 10,
              "solidity": 0.2
             }
            },
            "type": "bar"
           }
          ],
          "barpolar": [
           {
            "marker": {
             "line": {
              "color": "#E5ECF6",
              "width": 0.5
             },
             "pattern": {
              "fillmode": "overlay",
              "size": 10,
              "solidity": 0.2
             }
            },
            "type": "barpolar"
           }
          ],
          "carpet": [
           {
            "aaxis": {
             "endlinecolor": "#2a3f5f",
             "gridcolor": "white",
             "linecolor": "white",
             "minorgridcolor": "white",
             "startlinecolor": "#2a3f5f"
            },
            "baxis": {
             "endlinecolor": "#2a3f5f",
             "gridcolor": "white",
             "linecolor": "white",
             "minorgridcolor": "white",
             "startlinecolor": "#2a3f5f"
            },
            "type": "carpet"
           }
          ],
          "choropleth": [
           {
            "colorbar": {
             "outlinewidth": 0,
             "ticks": ""
            },
            "type": "choropleth"
           }
          ],
          "contour": [
           {
            "colorbar": {
             "outlinewidth": 0,
             "ticks": ""
            },
            "colorscale": [
             [
              0,
              "#0d0887"
             ],
             [
              0.1111111111111111,
              "#46039f"
             ],
             [
              0.2222222222222222,
              "#7201a8"
             ],
             [
              0.3333333333333333,
              "#9c179e"
             ],
             [
              0.4444444444444444,
              "#bd3786"
             ],
             [
              0.5555555555555556,
              "#d8576b"
             ],
             [
              0.6666666666666666,
              "#ed7953"
             ],
             [
              0.7777777777777778,
              "#fb9f3a"
             ],
             [
              0.8888888888888888,
              "#fdca26"
             ],
             [
              1,
              "#f0f921"
             ]
            ],
            "type": "contour"
           }
          ],
          "contourcarpet": [
           {
            "colorbar": {
             "outlinewidth": 0,
             "ticks": ""
            },
            "type": "contourcarpet"
           }
          ],
          "heatmap": [
           {
            "colorbar": {
             "outlinewidth": 0,
             "ticks": ""
            },
            "colorscale": [
             [
              0,
              "#0d0887"
             ],
             [
              0.1111111111111111,
              "#46039f"
             ],
             [
              0.2222222222222222,
              "#7201a8"
             ],
             [
              0.3333333333333333,
              "#9c179e"
             ],
             [
              0.4444444444444444,
              "#bd3786"
             ],
             [
              0.5555555555555556,
              "#d8576b"
             ],
             [
              0.6666666666666666,
              "#ed7953"
             ],
             [
              0.7777777777777778,
              "#fb9f3a"
             ],
             [
              0.8888888888888888,
              "#fdca26"
             ],
             [
              1,
              "#f0f921"
             ]
            ],
            "type": "heatmap"
           }
          ],
          "histogram": [
           {
            "marker": {
             "pattern": {
              "fillmode": "overlay",
              "size": 10,
              "solidity": 0.2
             }
            },
            "type": "histogram"
           }
          ],
          "histogram2d": [
           {
            "colorbar": {
             "outlinewidth": 0,
             "ticks": ""
            },
            "colorscale": [
             [
              0,
              "#0d0887"
             ],
             [
              0.1111111111111111,
              "#46039f"
             ],
             [
              0.2222222222222222,
              "#7201a8"
             ],
             [
              0.3333333333333333,
              "#9c179e"
             ],
             [
              0.4444444444444444,
              "#bd3786"
             ],
             [
              0.5555555555555556,
              "#d8576b"
             ],
             [
              0.6666666666666666,
              "#ed7953"
             ],
             [
              0.7777777777777778,
              "#fb9f3a"
             ],
             [
              0.8888888888888888,
              "#fdca26"
             ],
             [
              1,
              "#f0f921"
             ]
            ],
            "type": "histogram2d"
           }
          ],
          "histogram2dcontour": [
           {
            "colorbar": {
             "outlinewidth": 0,
             "ticks": ""
            },
            "colorscale": [
             [
              0,
              "#0d0887"
             ],
             [
              0.1111111111111111,
              "#46039f"
             ],
             [
              0.2222222222222222,
              "#7201a8"
             ],
             [
              0.3333333333333333,
              "#9c179e"
             ],
             [
              0.4444444444444444,
              "#bd3786"
             ],
             [
              0.5555555555555556,
              "#d8576b"
             ],
             [
              0.6666666666666666,
              "#ed7953"
             ],
             [
              0.7777777777777778,
              "#fb9f3a"
             ],
             [
              0.8888888888888888,
              "#fdca26"
             ],
             [
              1,
              "#f0f921"
             ]
            ],
            "type": "histogram2dcontour"
           }
          ],
          "mesh3d": [
           {
            "colorbar": {
             "outlinewidth": 0,
             "ticks": ""
            },
            "type": "mesh3d"
           }
          ],
          "parcoords": [
           {
            "line": {
             "colorbar": {
              "outlinewidth": 0,
              "ticks": ""
             }
            },
            "type": "parcoords"
           }
          ],
          "pie": [
           {
            "automargin": true,
            "type": "pie"
           }
          ],
          "scatter": [
           {
            "fillpattern": {
             "fillmode": "overlay",
             "size": 10,
             "solidity": 0.2
            },
            "type": "scatter"
           }
          ],
          "scatter3d": [
           {
            "line": {
             "colorbar": {
              "outlinewidth": 0,
              "ticks": ""
             }
            },
            "marker": {
             "colorbar": {
              "outlinewidth": 0,
              "ticks": ""
             }
            },
            "type": "scatter3d"
           }
          ],
          "scattercarpet": [
           {
            "marker": {
             "colorbar": {
              "outlinewidth": 0,
              "ticks": ""
             }
            },
            "type": "scattercarpet"
           }
          ],
          "scattergeo": [
           {
            "marker": {
             "colorbar": {
              "outlinewidth": 0,
              "ticks": ""
             }
            },
            "type": "scattergeo"
           }
          ],
          "scattergl": [
           {
            "marker": {
             "colorbar": {
              "outlinewidth": 0,
              "ticks": ""
             }
            },
            "type": "scattergl"
           }
          ],
          "scattermap": [
           {
            "marker": {
             "colorbar": {
              "outlinewidth": 0,
              "ticks": ""
             }
            },
            "type": "scattermap"
           }
          ],
          "scattermapbox": [
           {
            "marker": {
             "colorbar": {
              "outlinewidth": 0,
              "ticks": ""
             }
            },
            "type": "scattermapbox"
           }
          ],
          "scatterpolar": [
           {
            "marker": {
             "colorbar": {
              "outlinewidth": 0,
              "ticks": ""
             }
            },
            "type": "scatterpolar"
           }
          ],
          "scatterpolargl": [
           {
            "marker": {
             "colorbar": {
              "outlinewidth": 0,
              "ticks": ""
             }
            },
            "type": "scatterpolargl"
           }
          ],
          "scatterternary": [
           {
            "marker": {
             "colorbar": {
              "outlinewidth": 0,
              "ticks": ""
             }
            },
            "type": "scatterternary"
           }
          ],
          "surface": [
           {
            "colorbar": {
             "outlinewidth": 0,
             "ticks": ""
            },
            "colorscale": [
             [
              0,
              "#0d0887"
             ],
             [
              0.1111111111111111,
              "#46039f"
             ],
             [
              0.2222222222222222,
              "#7201a8"
             ],
             [
              0.3333333333333333,
              "#9c179e"
             ],
             [
              0.4444444444444444,
              "#bd3786"
             ],
             [
              0.5555555555555556,
              "#d8576b"
             ],
             [
              0.6666666666666666,
              "#ed7953"
             ],
             [
              0.7777777777777778,
              "#fb9f3a"
             ],
             [
              0.8888888888888888,
              "#fdca26"
             ],
             [
              1,
              "#f0f921"
             ]
            ],
            "type": "surface"
           }
          ],
          "table": [
           {
            "cells": {
             "fill": {
              "color": "#EBF0F8"
             },
             "line": {
              "color": "white"
             }
            },
            "header": {
             "fill": {
              "color": "#C8D4E3"
             },
             "line": {
              "color": "white"
             }
            },
            "type": "table"
           }
          ]
         },
         "layout": {
          "annotationdefaults": {
           "arrowcolor": "#2a3f5f",
           "arrowhead": 0,
           "arrowwidth": 1
          },
          "autotypenumbers": "strict",
          "coloraxis": {
           "colorbar": {
            "outlinewidth": 0,
            "ticks": ""
           }
          },
          "colorscale": {
           "diverging": [
            [
             0,
             "#8e0152"
            ],
            [
             0.1,
             "#c51b7d"
            ],
            [
             0.2,
             "#de77ae"
            ],
            [
             0.3,
             "#f1b6da"
            ],
            [
             0.4,
             "#fde0ef"
            ],
            [
             0.5,
             "#f7f7f7"
            ],
            [
             0.6,
             "#e6f5d0"
            ],
            [
             0.7,
             "#b8e186"
            ],
            [
             0.8,
             "#7fbc41"
            ],
            [
             0.9,
             "#4d9221"
            ],
            [
             1,
             "#276419"
            ]
           ],
           "sequential": [
            [
             0,
             "#0d0887"
            ],
            [
             0.1111111111111111,
             "#46039f"
            ],
            [
             0.2222222222222222,
             "#7201a8"
            ],
            [
             0.3333333333333333,
             "#9c179e"
            ],
            [
             0.4444444444444444,
             "#bd3786"
            ],
            [
             0.5555555555555556,
             "#d8576b"
            ],
            [
             0.6666666666666666,
             "#ed7953"
            ],
            [
             0.7777777777777778,
             "#fb9f3a"
            ],
            [
             0.8888888888888888,
             "#fdca26"
            ],
            [
             1,
             "#f0f921"
            ]
           ],
           "sequentialminus": [
            [
             0,
             "#0d0887"
            ],
            [
             0.1111111111111111,
             "#46039f"
            ],
            [
             0.2222222222222222,
             "#7201a8"
            ],
            [
             0.3333333333333333,
             "#9c179e"
            ],
            [
             0.4444444444444444,
             "#bd3786"
            ],
            [
             0.5555555555555556,
             "#d8576b"
            ],
            [
             0.6666666666666666,
             "#ed7953"
            ],
            [
             0.7777777777777778,
             "#fb9f3a"
            ],
            [
             0.8888888888888888,
             "#fdca26"
            ],
            [
             1,
             "#f0f921"
            ]
           ]
          },
          "colorway": [
           "#636efa",
           "#EF553B",
           "#00cc96",
           "#ab63fa",
           "#FFA15A",
           "#19d3f3",
           "#FF6692",
           "#B6E880",
           "#FF97FF",
           "#FECB52"
          ],
          "font": {
           "color": "#2a3f5f"
          },
          "geo": {
           "bgcolor": "white",
           "lakecolor": "white",
           "landcolor": "#E5ECF6",
           "showlakes": true,
           "showland": true,
           "subunitcolor": "white"
          },
          "hoverlabel": {
           "align": "left"
          },
          "hovermode": "closest",
          "mapbox": {
           "style": "light"
          },
          "paper_bgcolor": "white",
          "plot_bgcolor": "#E5ECF6",
          "polar": {
           "angularaxis": {
            "gridcolor": "white",
            "linecolor": "white",
            "ticks": ""
           },
           "bgcolor": "#E5ECF6",
           "radialaxis": {
            "gridcolor": "white",
            "linecolor": "white",
            "ticks": ""
           }
          },
          "scene": {
           "xaxis": {
            "backgroundcolor": "#E5ECF6",
            "gridcolor": "white",
            "gridwidth": 2,
            "linecolor": "white",
            "showbackground": true,
            "ticks": "",
            "zerolinecolor": "white"
           },
           "yaxis": {
            "backgroundcolor": "#E5ECF6",
            "gridcolor": "white",
            "gridwidth": 2,
            "linecolor": "white",
            "showbackground": true,
            "ticks": "",
            "zerolinecolor": "white"
           },
           "zaxis": {
            "backgroundcolor": "#E5ECF6",
            "gridcolor": "white",
            "gridwidth": 2,
            "linecolor": "white",
            "showbackground": true,
            "ticks": "",
            "zerolinecolor": "white"
           }
          },
          "shapedefaults": {
           "line": {
            "color": "#2a3f5f"
           }
          },
          "ternary": {
           "aaxis": {
            "gridcolor": "white",
            "linecolor": "white",
            "ticks": ""
           },
           "baxis": {
            "gridcolor": "white",
            "linecolor": "white",
            "ticks": ""
           },
           "bgcolor": "#E5ECF6",
           "caxis": {
            "gridcolor": "white",
            "linecolor": "white",
            "ticks": ""
           }
          },
          "title": {
           "x": 0.05
          },
          "xaxis": {
           "automargin": true,
           "gridcolor": "white",
           "linecolor": "white",
           "ticks": "",
           "title": {
            "standoff": 15
           },
           "zerolinecolor": "white",
           "zerolinewidth": 2
          },
          "yaxis": {
           "automargin": true,
           "gridcolor": "white",
           "linecolor": "white",
           "ticks": "",
           "title": {
            "standoff": 15
           },
           "zerolinecolor": "white",
           "zerolinewidth": 2
          }
         }
        },
        "title": {
         "text": "Shift Operations Heatmap - 2024-01"
        },
        "xaxis": {
         "anchor": "y",
         "constrain": "domain",
         "domain": [
          0,
          1
         ],
         "scaleanchor": "y",
         "title": {
          "text": "Shift ID"
         },
         "type": "category"
        },
        "yaxis": {
         "anchor": "x",
         "autorange": "reversed",
         "constrain": "domain",
         "domain": [
          0,
          1
         ],
         "title": {
          "text": "Date"
         },
         "type": "category"
        }
       }
      }
     },
     "metadata": {},
     "output_type": "display_data"
    },
    {
     "data": {
      "application/vnd.plotly.v1+json": {
       "config": {
        "plotlyServerURL": "https://plot.ly"
       },
       "data": [
        {
         "hovertemplate": "Date=%{x}<br>Number of Machines Running=%{y}<br>Shift=%{marker.color}<extra></extra>",
         "legendgroup": "",
         "marker": {
          "color": {
           "bdata": "AQIDAQIDAQIDAQIDAQIDAQIDAQIDAQIDAQIDAQIDAQIDAQIDAQIDAQIDAQIDAQIDAQIDAQIDAQIDAQIDAQIDAQIDAQIDAQIDAQIDAQIDAQIDAQIDAQIDAQIDAQID",
           "dtype": "i1"
          },
          "coloraxis": "coloraxis",
          "pattern": {
           "shape": ""
          }
         },
         "name": "",
         "orientation": "v",
         "showlegend": false,
         "textposition": "auto",
         "type": "bar",
         "x": [
          "2024-01-01T00:00:00",
          "2024-01-01T00:00:00",
          "2024-01-01T00:00:00",
          "2024-01-02T00:00:00",
          "2024-01-02T00:00:00",
          "2024-01-02T00:00:00",
          "2024-01-03T00:00:00",
          "2024-01-03T00:00:00",
          "2024-01-03T00:00:00",
          "2024-01-04T00:00:00",
          "2024-01-04T00:00:00",
          "2024-01-04T00:00:00",
          "2024-01-05T00:00:00",
          "2024-01-05T00:00:00",
          "2024-01-05T00:00:00",
          "2024-01-06T00:00:00",
          "2024-01-06T00:00:00",
          "2024-01-06T00:00:00",
          "2024-01-07T00:00:00",
          "2024-01-07T00:00:00",
          "2024-01-07T00:00:00",
          "2024-01-08T00:00:00",
          "2024-01-08T00:00:00",
          "2024-01-08T00:00:00",
          "2024-01-09T00:00:00",
          "2024-01-09T00:00:00",
          "2024-01-09T00:00:00",
          "2024-01-10T00:00:00",
          "2024-01-10T00:00:00",
          "2024-01-10T00:00:00",
          "2024-01-11T00:00:00",
          "2024-01-11T00:00:00",
          "2024-01-11T00:00:00",
          "2024-01-12T00:00:00",
          "2024-01-12T00:00:00",
          "2024-01-12T00:00:00",
          "2024-01-13T00:00:00",
          "2024-01-13T00:00:00",
          "2024-01-13T00:00:00",
          "2024-01-14T00:00:00",
          "2024-01-14T00:00:00",
          "2024-01-14T00:00:00",
          "2024-01-15T00:00:00",
          "2024-01-15T00:00:00",
          "2024-01-15T00:00:00",
          "2024-01-16T00:00:00",
          "2024-01-16T00:00:00",
          "2024-01-16T00:00:00",
          "2024-01-17T00:00:00",
          "2024-01-17T00:00:00",
          "2024-01-17T00:00:00",
          "2024-01-18T00:00:00",
          "2024-01-18T00:00:00",
          "2024-01-18T00:00:00",
          "2024-01-19T00:00:00",
          "2024-01-19T00:00:00",
          "2024-01-19T00:00:00",
          "2024-01-20T00:00:00",
          "2024-01-20T00:00:00",
          "2024-01-20T00:00:00",
          "2024-01-21T00:00:00",
          "2024-01-21T00:00:00",
          "2024-01-21T00:00:00",
          "2024-01-22T00:00:00",
          "2024-01-22T00:00:00",
          "2024-01-22T00:00:00",
          "2024-01-23T00:00:00",
          "2024-01-23T00:00:00",
          "2024-01-23T00:00:00",
          "2024-01-24T00:00:00",
          "2024-01-24T00:00:00",
          "2024-01-24T00:00:00",
          "2024-01-25T00:00:00",
          "2024-01-25T00:00:00",
          "2024-01-25T00:00:00",
          "2024-01-26T00:00:00",
          "2024-01-26T00:00:00",
          "2024-01-26T00:00:00",
          "2024-01-27T00:00:00",
          "2024-01-27T00:00:00",
          "2024-01-27T00:00:00",
          "2024-01-28T00:00:00",
          "2024-01-28T00:00:00",
          "2024-01-28T00:00:00",
          "2024-01-29T00:00:00",
          "2024-01-29T00:00:00",
          "2024-01-29T00:00:00",
          "2024-01-30T00:00:00",
          "2024-01-30T00:00:00",
          "2024-01-30T00:00:00",
          "2024-01-31T00:00:00",
          "2024-01-31T00:00:00",
          "2024-01-31T00:00:00"
         ],
         "xaxis": "x",
         "y": {
          "bdata": "AgUEAAAABQQFBQMDBAQEBQUEBAQFAAAABQUFBQQFBQUFBQUEBAUFBQUDBAQFBQQFBQQFBQUFAAAABQUFBQUEBQUFBQUEBAUEBAQEBQMEBQUEBQQDAAAABQUFBQQF",
          "dtype": "i1"
         },
         "yaxis": "y"
        }
       ],
       "layout": {
        "barmode": "stack",
        "coloraxis": {
         "colorbar": {
          "title": {
           "text": "Shift"
          }
         },
         "colorscale": [
          [
           0,
           "#0d0887"
          ],
          [
           0.1111111111111111,
           "#46039f"
          ],
          [
           0.2222222222222222,
           "#7201a8"
          ],
          [
           0.3333333333333333,
           "#9c179e"
          ],
          [
           0.4444444444444444,
           "#bd3786"
          ],
          [
           0.5555555555555556,
           "#d8576b"
          ],
          [
           0.6666666666666666,
           "#ed7953"
          ],
          [
           0.7777777777777778,
           "#fb9f3a"
          ],
          [
           0.8888888888888888,
           "#fdca26"
          ],
          [
           1,
           "#f0f921"
          ]
         ]
        },
        "legend": {
         "tracegroupgap": 0
        },
        "template": {
         "data": {
          "bar": [
           {
            "error_x": {
             "color": "#2a3f5f"
            },
            "error_y": {
             "color": "#2a3f5f"
            },
            "marker": {
             "line": {
              "color": "#E5ECF6",
              "width": 0.5
             },
             "pattern": {
              "fillmode": "overlay",
              "size": 10,
              "solidity": 0.2
             }
            },
            "type": "bar"
           }
          ],
          "barpolar": [
           {
            "marker": {
             "line": {
              "color": "#E5ECF6",
              "width": 0.5
             },
             "pattern": {
              "fillmode": "overlay",
              "size": 10,
              "solidity": 0.2
             }
            },
            "type": "barpolar"
           }
          ],
          "carpet": [
           {
            "aaxis": {
             "endlinecolor": "#2a3f5f",
             "gridcolor": "white",
             "linecolor": "white",
             "minorgridcolor": "white",
             "startlinecolor": "#2a3f5f"
            },
            "baxis": {
             "endlinecolor": "#2a3f5f",
             "gridcolor": "white",
             "linecolor": "white",
             "minorgridcolor": "white",
             "startlinecolor": "#2a3f5f"
            },
            "type": "carpet"
           }
          ],
          "choropleth": [
           {
            "colorbar": {
             "outlinewidth": 0,
             "ticks": ""
            },
            "type": "choropleth"
           }
          ],
          "contour": [
           {
            "colorbar": {
             "outlinewidth": 0,
             "ticks": ""
            },
            "colorscale": [
             [
              0,
              "#0d0887"
             ],
             [
              0.1111111111111111,
              "#46039f"
             ],
             [
              0.2222222222222222,
              "#7201a8"
             ],
             [
              0.3333333333333333,
              "#9c179e"
             ],
             [
              0.4444444444444444,
              "#bd3786"
             ],
             [
              0.5555555555555556,
              "#d8576b"
             ],
             [
              0.6666666666666666,
              "#ed7953"
             ],
             [
              0.7777777777777778,
              "#fb9f3a"
             ],
             [
              0.8888888888888888,
              "#fdca26"
             ],
             [
              1,
              "#f0f921"
             ]
            ],
            "type": "contour"
           }
          ],
          "contourcarpet": [
           {
            "colorbar": {
             "outlinewidth": 0,
             "ticks": ""
            },
            "type": "contourcarpet"
           }
          ],
          "heatmap": [
           {
            "colorbar": {
             "outlinewidth": 0,
             "ticks": ""
            },
            "colorscale": [
             [
              0,
              "#0d0887"
             ],
             [
              0.1111111111111111,
              "#46039f"
             ],
             [
              0.2222222222222222,
              "#7201a8"
             ],
             [
              0.3333333333333333,
              "#9c179e"
             ],
             [
              0.4444444444444444,
              "#bd3786"
             ],
             [
              0.5555555555555556,
              "#d8576b"
             ],
             [
              0.6666666666666666,
              "#ed7953"
             ],
             [
              0.7777777777777778,
              "#fb9f3a"
             ],
             [
              0.8888888888888888,
              "#fdca26"
             ],
             [
              1,
              "#f0f921"
             ]
            ],
            "type": "heatmap"
           }
          ],
          "histogram": [
           {
            "marker": {
             "pattern": {
              "fillmode": "overlay",
              "size": 10,
              "solidity": 0.2
             }
            },
            "type": "histogram"
           }
          ],
          "histogram2d": [
           {
            "colorbar": {
             "outlinewidth": 0,
             "ticks": ""
            },
            "colorscale": [
             [
              0,
              "#0d0887"
             ],
             [
              0.1111111111111111,
              "#46039f"
             ],
             [
              0.2222222222222222,
              "#7201a8"
             ],
             [
              0.3333333333333333,
              "#9c179e"
             ],
             [
              0.4444444444444444,
              "#bd3786"
             ],
             [
              0.5555555555555556,
              "#d8576b"
             ],
             [
              0.6666666666666666,
              "#ed7953"
             ],
             [
              0.7777777777777778,
              "#fb9f3a"
             ],
             [
              0.8888888888888888,
              "#fdca26"
             ],
             [
              1,
              "#f0f921"
             ]
            ],
            "type": "histogram2d"
           }
          ],
          "histogram2dcontour": [
           {
            "colorbar": {
             "outlinewidth": 0,
             "ticks": ""
            },
            "colorscale": [
             [
              0,
              "#0d0887"
             ],
             [
              0.1111111111111111,
              "#46039f"
             ],
             [
              0.2222222222222222,
              "#7201a8"
             ],
             [
              0.3333333333333333,
              "#9c179e"
             ],
             [
              0.4444444444444444,
              "#bd3786"
             ],
             [
              0.5555555555555556,
              "#d8576b"
             ],
             [
              0.6666666666666666,
              "#ed7953"
             ],
             [
              0.7777777777777778,
              "#fb9f3a"
             ],
             [
              0.8888888888888888,
              "#fdca26"
             ],
             [
              1,
              "#f0f921"
             ]
            ],
            "type": "histogram2dcontour"
           }
          ],
          "mesh3d": [
           {
            "colorbar": {
             "outlinewidth": 0,
             "ticks": ""
            },
            "type": "mesh3d"
           }
          ],
          "parcoords": [
           {
            "line": {
             "colorbar": {
              "outlinewidth": 0,
              "ticks": ""
             }
            },
            "type": "parcoords"
           }
          ],
          "pie": [
           {
            "automargin": true,
            "type": "pie"
           }
          ],
          "scatter": [
           {
            "fillpattern": {
             "fillmode": "overlay",
             "size": 10,
             "solidity": 0.2
            },
            "type": "scatter"
           }
          ],
          "scatter3d": [
           {
            "line": {
             "colorbar": {
              "outlinewidth": 0,
              "ticks": ""
             }
            },
            "marker": {
             "colorbar": {
              "outlinewidth": 0,
              "ticks": ""
             }
            },
            "type": "scatter3d"
           }
          ],
          "scattercarpet": [
           {
            "marker": {
             "colorbar": {
              "outlinewidth": 0,
              "ticks": ""
             }
            },
            "type": "scattercarpet"
           }
          ],
          "scattergeo": [
           {
            "marker": {
             "colorbar": {
              "outlinewidth": 0,
              "ticks": ""
             }
            },
            "type": "scattergeo"
           }
          ],
          "scattergl": [
           {
            "marker": {
             "colorbar": {
              "outlinewidth": 0,
              "ticks": ""
             }
            },
            "type": "scattergl"
           }
          ],
          "scattermap": [
           {
            "marker": {
             "colorbar": {
              "outlinewidth": 0,
              "ticks": ""
             }
            },
            "type": "scattermap"
           }
          ],
          "scattermapbox": [
           {
            "marker": {
             "colorbar": {
              "outlinewidth": 0,
              "ticks": ""
             }
            },
            "type": "scattermapbox"
           }
          ],
          "scatterpolar": [
           {
            "marker": {
             "colorbar": {
              "outlinewidth": 0,
              "ticks": ""
             }
            },
            "type": "scatterpolar"
           }
          ],
          "scatterpolargl": [
           {
            "marker": {
             "colorbar": {
              "outlinewidth": 0,
              "ticks": ""
             }
            },
            "type": "scatterpolargl"
           }
          ],
          "scatterternary": [
           {
            "marker": {
             "colorbar": {
              "outlinewidth": 0,
              "ticks": ""
             }
            },
            "type": "scatterternary"
           }
          ],
          "surface": [
           {
            "colorbar": {
             "outlinewidth": 0,
             "ticks": ""
            },
            "colorscale": [
             [
              0,
              "#0d0887"
             ],
             [
              0.1111111111111111,
              "#46039f"
             ],
             [
              0.2222222222222222,
              "#7201a8"
             ],
             [
              0.3333333333333333,
              "#9c179e"
             ],
             [
              0.4444444444444444,
              "#bd3786"
             ],
             [
              0.5555555555555556,
              "#d8576b"
             ],
             [
              0.6666666666666666,
              "#ed7953"
             ],
             [
              0.7777777777777778,
              "#fb9f3a"
             ],
             [
              0.8888888888888888,
              "#fdca26"
             ],
             [
              1,
              "#f0f921"
             ]
            ],
            "type": "surface"
           }
          ],
          "table": [
           {
            "cells": {
             "fill": {
              "color": "#EBF0F8"
             },
             "line": {
              "color": "white"
             }
            },
            "header": {
             "fill": {
              "color": "#C8D4E3"
             },
             "line": {
              "color": "white"
             }
            },
            "type": "table"
           }
          ]
         },
         "layout": {
          "annotationdefaults": {
           "arrowcolor": "#2a3f5f",
           "arrowhead": 0,
           "arrowwidth": 1
          },
          "autotypenumbers": "strict",
          "coloraxis": {
           "colorbar": {
            "outlinewidth": 0,
            "ticks": ""
           }
          },
          "colorscale": {
           "diverging": [
            [
             0,
             "#8e0152"
            ],
            [
             0.1,
             "#c51b7d"
            ],
            [
             0.2,
             "#de77ae"
            ],
            [
             0.3,
             "#f1b6da"
            ],
            [
             0.4,
             "#fde0ef"
            ],
            [
             0.5,
             "#f7f7f7"
            ],
            [
             0.6,
             "#e6f5d0"
            ],
            [
             0.7,
             "#b8e186"
            ],
            [
             0.8,
             "#7fbc41"
            ],
            [
             0.9,
             "#4d9221"
            ],
            [
             1,
             "#276419"
            ]
           ],
           "sequential": [
            [
             0,
             "#0d0887"
            ],
            [
             0.1111111111111111,
             "#46039f"
            ],
            [
             0.2222222222222222,
             "#7201a8"
            ],
            [
             0.3333333333333333,
             "#9c179e"
            ],
            [
             0.4444444444444444,
             "#bd3786"
            ],
            [
             0.5555555555555556,
             "#d8576b"
            ],
            [
             0.6666666666666666,
             "#ed7953"
            ],
            [
             0.7777777777777778,
             "#fb9f3a"
            ],
            [
             0.8888888888888888,
             "#fdca26"
            ],
            [
             1,
             "#f0f921"
            ]
           ],
           "sequentialminus": [
            [
             0,
             "#0d0887"
            ],
            [
             0.1111111111111111,
             "#46039f"
            ],
            [
             0.2222222222222222,
             "#7201a8"
            ],
            [
             0.3333333333333333,
             "#9c179e"
            ],
            [
             0.4444444444444444,
             "#bd3786"
            ],
            [
             0.5555555555555556,
             "#d8576b"
            ],
            [
             0.6666666666666666,
             "#ed7953"
            ],
            [
             0.7777777777777778,
             "#fb9f3a"
            ],
            [
             0.8888888888888888,
             "#fdca26"
            ],
            [
             1,
             "#f0f921"
            ]
           ]
          },
          "colorway": [
           "#636efa",
           "#EF553B",
           "#00cc96",
           "#ab63fa",
           "#FFA15A",
           "#19d3f3",
           "#FF6692",
           "#B6E880",
           "#FF97FF",
           "#FECB52"
          ],
          "font": {
           "color": "#2a3f5f"
          },
          "geo": {
           "bgcolor": "white",
           "lakecolor": "white",
           "landcolor": "#E5ECF6",
           "showlakes": true,
           "showland": true,
           "subunitcolor": "white"
          },
          "hoverlabel": {
           "align": "left"
          },
          "hovermode": "closest",
          "mapbox": {
           "style": "light"
          },
          "paper_bgcolor": "white",
          "plot_bgcolor": "#E5ECF6",
          "polar": {
           "angularaxis": {
            "gridcolor": "white",
            "linecolor": "white",
            "ticks": ""
           },
           "bgcolor": "#E5ECF6",
           "radialaxis": {
            "gridcolor": "white",
            "linecolor": "white",
            "ticks": ""
           }
          },
          "scene": {
           "xaxis": {
            "backgroundcolor": "#E5ECF6",
            "gridcolor": "white",
            "gridwidth": 2,
            "linecolor": "white",
            "showbackground": true,
            "ticks": "",
            "zerolinecolor": "white"
           },
           "yaxis": {
            "backgroundcolor": "#E5ECF6",
            "gridcolor": "white",
            "gridwidth": 2,
            "linecolor": "white",
            "showbackground": true,
            "ticks": "",
            "zerolinecolor": "white"
           },
           "zaxis": {
            "backgroundcolor": "#E5ECF6",
            "gridcolor": "white",
            "gridwidth": 2,
            "linecolor": "white",
            "showbackground": true,
            "ticks": "",
            "zerolinecolor": "white"
           }
          },
          "shapedefaults": {
           "line": {
            "color": "#2a3f5f"
           }
          },
          "ternary": {
           "aaxis": {
            "gridcolor": "white",
            "linecolor": "white",
            "ticks": ""
           },
           "baxis": {
            "gridcolor": "white",
            "linecolor": "white",
            "ticks": ""
           },
           "bgcolor": "#E5ECF6",
           "caxis": {
            "gridcolor": "white",
            "linecolor": "white",
            "ticks": ""
           }
          },
          "title": {
           "x": 0.05
          },
          "xaxis": {
           "automargin": true,
           "gridcolor": "white",
           "linecolor": "white",
           "ticks": "",
           "title": {
            "standoff": 15
           },
           "zerolinecolor": "white",
           "zerolinewidth": 2
          },
          "yaxis": {
           "automargin": true,
           "gridcolor": "white",
           "linecolor": "white",
           "ticks": "",
           "title": {
            "standoff": 15
           },
           "zerolinecolor": "white",
           "zerolinewidth": 2
          }
         }
        },
        "title": {
         "text": "Operational Machines Per Shift - 2024-01"
        },
        "xaxis": {
         "anchor": "y",
         "domain": [
          0,
          1
         ],
         "title": {
          "text": "Date"
         }
        },
        "yaxis": {
         "anchor": "x",
         "domain": [
          0,
          1
         ],
         "title": {
          "text": "Number of Machines Running"
         }
        }
       }
      }
     },
     "metadata": {},
     "output_type": "display_data"
    }
   ],
   "source": [
    "visualize_shift_operations(production_df, \"2024-01\")\n"
   ]
  },
  {
   "cell_type": "code",
   "execution_count": 20,
   "metadata": {},
   "outputs": [],
   "source": [
    "import sqlite3\n",
    "\n",
    "# Connect to SQLite database (creates file if not exists)\n",
    "conn = sqlite3.connect(\"syskron_production.db\")\n",
    "cursor = conn.cursor()\n",
    "\n",
    "\n"
   ]
  },
  {
   "cell_type": "code",
   "execution_count": 21,
   "metadata": {},
   "outputs": [
    {
     "data": {
      "text/plain": [
       "<sqlite3.Cursor at 0x290cdd9ddc0>"
      ]
     },
     "execution_count": 21,
     "metadata": {},
     "output_type": "execute_result"
    }
   ],
   "source": [
    "# Execute a query\n",
    "cursor.execute(\"SELECT COUNT(DISTINCT pl.date) as production_off_days FROM production_logs pl WHERE pl.good_units = 0 AND pl.scrap_units = 0 AND pl.date LIKE '2024-02%'\")"
   ]
  },
  {
   "cell_type": "code",
   "execution_count": 22,
   "metadata": {},
   "outputs": [],
   "source": [
    "\n",
    "# cursor.execute(\"INSERT INTO users (name) VALUES (?)\", (\"Alice\",))\n",
    "\n",
    "# Commit changes and fetch results\n",
    "conn.commit()\n",
    "# cursor.execute(\"SELECT * FROM users\")\n",
    "# rows = cursor.fetchall()\n",
    "\n",
    "# for row in rows:\n",
    "#     print(row)\n",
    "\n",
    "# # Close the connection\n",
    "# conn.close()"
   ]
  },
  {
   "cell_type": "code",
   "execution_count": 23,
   "metadata": {},
   "outputs": [
    {
     "data": {
      "text/plain": [
       "<sqlite3.Cursor at 0x290cdd9ddc0>"
      ]
     },
     "execution_count": 23,
     "metadata": {},
     "output_type": "execute_result"
    }
   ],
   "source": [
    "# Execute a query\n",
    "cursor.execute(\"SELECT COUNT(DISTINCT pl.date) as production_off_days FROM production_logs pl WHERE pl.good_units = 0 AND pl.scrap_units = 0 AND pl.date LIKE '2024-02%'\")"
   ]
  },
  {
   "cell_type": "code",
   "execution_count": 24,
   "metadata": {},
   "outputs": [
    {
     "name": "stdout",
     "output_type": "stream",
     "text": [
      "(0,)\n"
     ]
    }
   ],
   "source": [
    "rows = cursor.fetchall()\n",
    "\n",
    "for row in rows:\n",
    "    print(row)"
   ]
  },
  {
   "cell_type": "code",
   "execution_count": null,
   "metadata": {},
   "outputs": [],
   "source": []
  },
  {
   "cell_type": "code",
   "execution_count": null,
   "metadata": {},
   "outputs": [],
   "source": []
  }
 ],
 "metadata": {
  "kernelspec": {
   "display_name": "Python 3",
   "language": "python",
   "name": "python3"
  },
  "language_info": {
   "codemirror_mode": {
    "name": "ipython",
    "version": 3
   },
   "file_extension": ".py",
   "mimetype": "text/x-python",
   "name": "python",
   "nbconvert_exporter": "python",
   "pygments_lexer": "ipython3",
   "version": "3.11.9"
  }
 },
 "nbformat": 4,
 "nbformat_minor": 2
}
